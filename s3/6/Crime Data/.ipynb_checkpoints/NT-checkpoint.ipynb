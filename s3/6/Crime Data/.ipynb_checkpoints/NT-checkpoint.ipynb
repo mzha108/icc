{
 "cells": [
  {
   "cell_type": "code",
   "execution_count": 1,
   "metadata": {},
   "outputs": [],
   "source": [
    "import pandas as pd\n",
    "import datetime\n",
    "import numpy as np\n",
    "import re"
   ]
  },
  {
   "cell_type": "code",
   "execution_count": 2,
   "metadata": {},
   "outputs": [],
   "source": [
    "def date_convert(data):\n",
    "    if data == 'Jan' or data == 'Feb' or data == 'Mar':\n",
    "        return 'Q1'\n",
    "    elif data == 'Apr' or data == 'May' or data == 'Jun':\n",
    "        return 'Q2'\n",
    "    elif data == 'Jul' or data == 'Aug' or data == 'Sep':\n",
    "        return 'Q3'\n",
    "    else:\n",
    "        return 'Q4'\n",
    " "
   ]
  },
  {
   "cell_type": "code",
   "execution_count": 3,
   "metadata": {},
   "outputs": [
    {
     "data": {
      "text/plain": [
       "['Sep Q 2011 - Dec Q 2013',\n",
       " 'Sep 2013 - Nov 2015',\n",
       " 'Nov 2015 - Jan 2018',\n",
       " '2011-2018']"
      ]
     },
     "execution_count": 3,
     "metadata": {},
     "output_type": "execute_result"
    }
   ],
   "source": [
    "file = pd.ExcelFile('Northern Territory_data.xlsx')\n",
    "file.sheet_names"
   ]
  },
  {
   "cell_type": "code",
   "execution_count": 4,
   "metadata": {},
   "outputs": [],
   "source": [
    "nt = file.parse(sheet_name='2011-2018', header=None)"
   ]
  },
  {
   "cell_type": "code",
   "execution_count": 5,
   "metadata": {},
   "outputs": [],
   "source": [
    "# nt.head(2)"
   ]
  },
  {
   "cell_type": "code",
   "execution_count": null,
   "metadata": {},
   "outputs": [],
   "source": []
  },
  {
   "cell_type": "code",
   "execution_count": 6,
   "metadata": {},
   "outputs": [],
   "source": [
    "for i in range(len(nt.columns)):\n",
    "    for j in range(len(nt)):\n",
    "        if type(nt[nt.columns[i]].values[j]) == datetime.datetime:\n",
    "            if nt[nt.columns[i]].values[j].month < 4:\n",
    "                nt[nt.columns[i]].values[j] = str(nt[nt.columns[i]].values[j]).split(' ')[0].split('-', 1)[0] + ' Q1'\n",
    "            elif nt[nt.columns[i]].values[j].month < 7:\n",
    "                nt[nt.columns[i]].values[j] = str(nt[nt.columns[i]].values[j]).split(' ')[0].split('-', 1)[0] + ' Q2'\n",
    "            elif nt[nt.columns[i]].values[j].month < 10:\n",
    "                nt[nt.columns[i]].values[j] = str(nt[nt.columns[i]].values[j]).split(' ')[0].split('-', 1)[0] + ' Q3'\n",
    "            else:\n",
    "                nt[nt.columns[i]].values[j] = str(nt[nt.columns[i]].values[j]).split(' ')[0].split('-', 1)[0] + ' Q4'\n",
    "        elif type(nt[nt.columns[i]].values[j]) == str:\n",
    "            if len(nt[nt.columns[i]].values[j]) == 6 and len(nt[nt.columns[i]].values[j].split('-')) == 2:\n",
    "                nt[nt.columns[i]].values[j] = '20' + nt[nt.columns[i]].values[j].split('-')[1] + ' ' + date_convert(nt[nt.columns[i]].values[j].split('-')[0])"
   ]
  },
  {
   "cell_type": "code",
   "execution_count": 7,
   "metadata": {},
   "outputs": [],
   "source": [
    "column_name_list = list(nt.loc[0,:])\n",
    "nt = pd.DataFrame(\n",
    "    np.row_stack([nt.columns, nt.values]),\n",
    "    columns=column_name_list\n",
    ")"
   ]
  },
  {
   "cell_type": "code",
   "execution_count": 8,
   "metadata": {},
   "outputs": [],
   "source": [
    "nt = nt.drop(index=[0, 1]).reset_index().drop(columns=['index'])"
   ]
  },
  {
   "cell_type": "code",
   "execution_count": 9,
   "metadata": {},
   "outputs": [],
   "source": [
    "nt.fillna('null', inplace=True)\n",
    "nt.drop(nt[nt['Number of offences'] == 'null'].index, inplace=True)"
   ]
  },
  {
   "cell_type": "code",
   "execution_count": 10,
   "metadata": {},
   "outputs": [],
   "source": [
    "nt.drop(nt[nt['Number of offences'] == 'null'].index, inplace=True)"
   ]
  },
  {
   "cell_type": "code",
   "execution_count": 11,
   "metadata": {},
   "outputs": [],
   "source": [
    "nt.rename(columns={'Number of offences':'subcategory'}, inplace=True)"
   ]
  },
  {
   "cell_type": "code",
   "execution_count": 12,
   "metadata": {},
   "outputs": [],
   "source": [
    "nt['category'] = nt['category'].apply(lambda x:x.split(' ', 1)[1])"
   ]
  },
  {
   "cell_type": "code",
   "execution_count": 13,
   "metadata": {},
   "outputs": [],
   "source": [
    "nt['subcategory'] = nt['subcategory'].apply(lambda x:x.strip().split(' ', 1)[1] if ',' not in x else x.strip())"
   ]
  },
  {
   "cell_type": "code",
   "execution_count": null,
   "metadata": {},
   "outputs": [],
   "source": []
  },
  {
   "cell_type": "code",
   "execution_count": 14,
   "metadata": {},
   "outputs": [],
   "source": [
    "nt.set_index(['district', 'category', 'subcategory'], inplace=True)"
   ]
  },
  {
   "cell_type": "code",
   "execution_count": 15,
   "metadata": {},
   "outputs": [],
   "source": [
    "nt = nt.stack().to_frame()"
   ]
  },
  {
   "cell_type": "code",
   "execution_count": 16,
   "metadata": {},
   "outputs": [],
   "source": [
    "nt.index.names = ['district', 'category', 'subcategory', 'year and quarter']"
   ]
  },
  {
   "cell_type": "code",
   "execution_count": 17,
   "metadata": {},
   "outputs": [],
   "source": [
    "nt = nt.groupby(['district', 'category', 'subcategory', 'year and quarter']).sum()"
   ]
  },
  {
   "cell_type": "code",
   "execution_count": 18,
   "metadata": {},
   "outputs": [],
   "source": [
    "nt.rename(columns={0:'records'}, inplace=True)"
   ]
  },
  {
   "cell_type": "code",
   "execution_count": 19,
   "metadata": {},
   "outputs": [],
   "source": [
    "nt['suburb'] = ''\n",
    "nt['postcode'] = ''\n",
    "nt['state_code'] = 'NT'"
   ]
  },
  {
   "cell_type": "code",
   "execution_count": 20,
   "metadata": {},
   "outputs": [],
   "source": [
    "nt = nt.reset_index()"
   ]
  },
  {
   "cell_type": "code",
   "execution_count": 21,
   "metadata": {},
   "outputs": [
    {
     "data": {
      "text/plain": [
       "0       2011 Q3\n",
       "1       2011 Q4\n",
       "2       2012 Q1\n",
       "3       2012 Q2\n",
       "4       2012 Q3\n",
       "         ...   \n",
       "4747    2017 Q1\n",
       "4748    2017 Q2\n",
       "4749    2017 Q3\n",
       "4750    2017 Q4\n",
       "4751    2018 Q1\n",
       "Name: year and quarter, Length: 4752, dtype: object"
      ]
     },
     "execution_count": 21,
     "metadata": {},
     "output_type": "execute_result"
    }
   ],
   "source": [
    "nt['year and quarter']"
   ]
  },
  {
   "cell_type": "code",
   "execution_count": 22,
   "metadata": {},
   "outputs": [],
   "source": [
    "nt['year'] = nt['year and quarter'].str.split(' ').str[0]\n",
    "nt['quarter'] = nt['year and quarter'].str.split(' ').str[1]\n",
    "\n",
    "nt = nt.drop(columns=['year and quarter'])"
   ]
  },
  {
   "cell_type": "code",
   "execution_count": 23,
   "metadata": {},
   "outputs": [],
   "source": [
    "nt.to_excel('finished/NT.xlsx', index=False)"
   ]
  },
  {
   "cell_type": "code",
   "execution_count": null,
   "metadata": {},
   "outputs": [],
   "source": []
  }
 ],
 "metadata": {
  "kernelspec": {
   "display_name": "Python 3.7.6 64-bit ('tf2': conda)",
   "language": "python",
   "name": "python37664bittf2condad07dc43a9ffc4bc7bc06ef8a41f822db"
  },
  "language_info": {
   "codemirror_mode": {
    "name": "ipython",
    "version": 3
   },
   "file_extension": ".py",
   "mimetype": "text/x-python",
   "name": "python",
   "nbconvert_exporter": "python",
   "pygments_lexer": "ipython3",
   "version": "3.7.6"
  }
 },
 "nbformat": 4,
 "nbformat_minor": 4
}
