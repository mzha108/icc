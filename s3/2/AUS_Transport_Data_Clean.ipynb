{
 "cells": [
  {
   "cell_type": "code",
   "execution_count": null,
   "metadata": {},
   "outputs": [],
   "source": [
    "import pandas as pd\n",
    "import numpy as np\n",
    "import time\n",
    "from geopy.geocoders import Bing\n",
    "from pyproj import Transformer\n",
    "\n",
    "# requesting Bing to convert latitude and longitude into location\n",
    "geolocator = Bing(api_key='your_Bing_api_key')\n",
    "\n",
    "# convert XY map coordinates into longitude into location coordinates\n",
    "transformer = Transformer.from_crs(\"epsg:3857\", \"epsg:4326\")\n",
    "\n",
    "# count time\n",
    "def display_time(func):\n",
    "    def wrapper(*args):\n",
    "        t1 = time.time()\n",
    "        result = func(*args)\n",
    "        t2 = time.time()\n",
    "        print('Total time: {:.4} m'.format((t2 - t1) / 60))\n",
    "        return result\n",
    "    return wrapper\n",
    "\n",
    "\n",
    "# add id and postcode columns to dataframe\n",
    "def add_id_and_postcode_cols(data):\n",
    "    '''\n",
    "    params:\n",
    "        data: dataframe\n",
    "    return:\n",
    "        dataframe in column order 'id', 'stop_id','postcode', \n",
    "           'stop_name', 'stop_lat', 'stop_lon', 'mode', 'state_code'\n",
    "    '''\n",
    "    data['postcode'] = ''\n",
    "    data['id'] = range(1, len(data)+1)\n",
    "    data.columns = data.columns.to_series().apply(lambda x:x.strip()).apply(lambda x:x.lower())\n",
    "    data = data.rename(columns={'state code':'state_code'})\n",
    "    cols = ['id', 'stop_id','postcode', 'stop_name', 'stop_lat', 'stop_lon', 'mode', 'state_code']\n",
    "    data = data[cols]\n",
    "    data = data.reindex(columns=cols)\n",
    "    return data\n",
    "\n",
    "\n",
    "# requesting Bing server to convert lat and lon coordinates, and exctract postcode\n",
    "@display_time\n",
    "def get_postcode(data):\n",
    "    '''\n",
    "    params:\n",
    "        data: dataframe\n",
    "    return:\n",
    "        dataframe which filled with postcode according to the latitude and longitude\n",
    "    '''\n",
    "    for i in range(len(data)):\n",
    "        coord = str(data['stop_lat'].values[i]) + ' ' + str(data['stop_lon'].values[i])\n",
    "        data['postcode'].values[i] = geolocator.reverse(coord).address.split(',')[-2].split(' ')[-1]\n",
    "        # data['postcode'].values[i] = geolocator.reverse(coord).address.split(',')[-2]\n",
    "    return data"
   ]
  },
  {
   "cell_type": "markdown",
   "metadata": {},
   "source": [
    "## ACT_BUS"
   ]
  },
  {
   "cell_type": "code",
   "execution_count": null,
   "metadata": {},
   "outputs": [],
   "source": [
    "ACT_BUS = pd.read_csv('dataset/ACT_Bus_Stops_v 2.csv')\n",
    "ACT_BUS.head(2)"
   ]
  },
  {
   "cell_type": "code",
   "execution_count": null,
   "metadata": {},
   "outputs": [],
   "source": [
    "ACT_BUS[ACT_BUS.duplicated()].count()"
   ]
  },
  {
   "cell_type": "code",
   "execution_count": null,
   "metadata": {},
   "outputs": [],
   "source": [
    "ACT_BUS['id'] = range(1, len(ACT_BUS)+1)"
   ]
  },
  {
   "cell_type": "code",
   "execution_count": null,
   "metadata": {},
   "outputs": [],
   "source": [
    "ACT_BUS['postcode'] = ''"
   ]
  },
  {
   "cell_type": "code",
   "execution_count": null,
   "metadata": {},
   "outputs": [],
   "source": [
    "cols = list(ACT_BUS.columns)\n",
    "cols.insert(0, cols.pop(-2))\n",
    "cols.insert(2, cols.pop(-1))"
   ]
  },
  {
   "cell_type": "code",
   "execution_count": null,
   "metadata": {},
   "outputs": [],
   "source": [
    "ACT_BUS = ACT_BUS.reindex(columns=cols).rename(columns={'STATE CODE':'state_code'})"
   ]
  },
  {
   "cell_type": "code",
   "execution_count": null,
   "metadata": {},
   "outputs": [],
   "source": [
    "ACT_BUS.head(2)"
   ]
  },
  {
   "cell_type": "code",
   "execution_count": null,
   "metadata": {},
   "outputs": [],
   "source": [
    "ACT_BUS = get_postcode(ACT_BUS.iloc[:,:])"
   ]
  },
  {
   "cell_type": "code",
   "execution_count": null,
   "metadata": {},
   "outputs": [],
   "source": [
    "ACT_BUS.to_csv('finished/ACT_BUS.csv', index=False)"
   ]
  },
  {
   "cell_type": "code",
   "execution_count": null,
   "metadata": {},
   "outputs": [],
   "source": []
  },
  {
   "cell_type": "markdown",
   "metadata": {},
   "source": [
    "## VIC_Railway_Station"
   ]
  },
  {
   "cell_type": "code",
   "execution_count": null,
   "metadata": {},
   "outputs": [],
   "source": [
    "VIC_Railway_Station = pd.read_csv('dataset/VIC_Railway Station.csv')\n",
    "VIC_Railway_Station.head(2)"
   ]
  },
  {
   "cell_type": "code",
   "execution_count": null,
   "metadata": {},
   "outputs": [],
   "source": [
    "VIC_Railway_Station.info()"
   ]
  },
  {
   "cell_type": "code",
   "execution_count": null,
   "metadata": {},
   "outputs": [],
   "source": [
    "VIC_Railway_Station[VIC_Railway_Station.duplicated()].count()"
   ]
  },
  {
   "cell_type": "code",
   "execution_count": null,
   "metadata": {},
   "outputs": [],
   "source": [
    "VIC_Railway_Station[VIC_Railway_Station.duplicated()]"
   ]
  },
  {
   "cell_type": "code",
   "execution_count": null,
   "metadata": {},
   "outputs": [],
   "source": [
    "VIC_Railway_Station = VIC_Railway_Station.drop_duplicates()"
   ]
  },
  {
   "cell_type": "code",
   "execution_count": null,
   "metadata": {},
   "outputs": [],
   "source": [
    "VIC_Railway_Station[VIC_Railway_Station.duplicated()]"
   ]
  },
  {
   "cell_type": "code",
   "execution_count": null,
   "metadata": {},
   "outputs": [],
   "source": [
    "VIC_Railway_Station = add_id_and_postcode_cols(VIC_Railway_Station)\n",
    "VIC_Railway_Station.head(2)"
   ]
  },
  {
   "cell_type": "code",
   "execution_count": null,
   "metadata": {},
   "outputs": [],
   "source": [
    "VIC_Railway_Station = get_postcode(VIC_Railway_Station.iloc[:,:])"
   ]
  },
  {
   "cell_type": "code",
   "execution_count": null,
   "metadata": {},
   "outputs": [],
   "source": [
    "VIC_Railway_Station.head(2)"
   ]
  },
  {
   "cell_type": "code",
   "execution_count": null,
   "metadata": {},
   "outputs": [],
   "source": [
    "VIC_Railway_Station.to_csv('dataset/finished/VIC_Railway.csv', index=False)"
   ]
  },
  {
   "cell_type": "code",
   "execution_count": null,
   "metadata": {},
   "outputs": [],
   "source": []
  },
  {
   "cell_type": "markdown",
   "metadata": {},
   "source": [
    "## WA_PT_Autority_Service_Routes"
   ]
  },
  {
   "cell_type": "code",
   "execution_count": null,
   "metadata": {},
   "outputs": [],
   "source": [
    "WA_PT = pd.read_csv('dataset/WA_PT Authority Service Routes (PTA-002).csv')\n",
    "WA_PT.info()"
   ]
  },
  {
   "cell_type": "code",
   "execution_count": null,
   "metadata": {},
   "outputs": [],
   "source": [
    "WA_PT[WA_PT.duplicated()].count()"
   ]
  },
  {
   "cell_type": "code",
   "execution_count": null,
   "metadata": {},
   "outputs": [],
   "source": [
    "WA_PT[WA_PT['state code'].isna()] = WA_PT[WA_PT['state code'].isna()].fillna('WA')\n",
    "WA_PT.info()"
   ]
  },
  {
   "cell_type": "code",
   "execution_count": null,
   "metadata": {},
   "outputs": [],
   "source": [
    "WA_PT = add_id_and_postcode_cols(WA_PT)\n",
    "WA_PT.head(2)"
   ]
  },
  {
   "cell_type": "code",
   "execution_count": null,
   "metadata": {},
   "outputs": [],
   "source": [
    "WA_PT = get_postcode(WA_PT)"
   ]
  },
  {
   "cell_type": "code",
   "execution_count": null,
   "metadata": {},
   "outputs": [],
   "source": [
    "WA_PT.to_csv('dataset/finished/WA_Bus.csv', index=False)"
   ]
  },
  {
   "cell_type": "code",
   "execution_count": null,
   "metadata": {},
   "outputs": [],
   "source": []
  },
  {
   "cell_type": "markdown",
   "metadata": {},
   "source": [
    "## VIC_Brisbane_City_Council_Bus_Stop"
   ]
  },
  {
   "cell_type": "code",
   "execution_count": null,
   "metadata": {},
   "outputs": [],
   "source": [
    "VIC_Brisbane_Bus = pd.read_csv('dataset/VIC_Brisbane City Council_bus-stop-locations v2.csv', dtype={'stop_id':str})\n",
    "VIC_Brisbane_Bus.head(2)"
   ]
  },
  {
   "cell_type": "code",
   "execution_count": null,
   "metadata": {},
   "outputs": [],
   "source": [
    "VIC_Brisbane_Bus.info()"
   ]
  },
  {
   "cell_type": "code",
   "execution_count": null,
   "metadata": {},
   "outputs": [],
   "source": [
    "VIC_Brisbane_Bus['stop_id'] = VIC_Brisbane_Bus['stop_id'].fillna('u')"
   ]
  },
  {
   "cell_type": "code",
   "execution_count": null,
   "metadata": {},
   "outputs": [],
   "source": [
    "VIC_Brisbane_Bus[VIC_Brisbane_Bus.duplicated()].count()"
   ]
  },
  {
   "cell_type": "code",
   "execution_count": null,
   "metadata": {},
   "outputs": [],
   "source": [
    "VIC_Brisbane_Bus.info()"
   ]
  },
  {
   "cell_type": "code",
   "execution_count": null,
   "metadata": {},
   "outputs": [],
   "source": [
    "VIC_Brisbane_Bus['stop_id'] = VIC_Brisbane_Bus['stop_id'].fillna('Unknown')\n",
    "VIC_Brisbane_Bus"
   ]
  },
  {
   "cell_type": "code",
   "execution_count": null,
   "metadata": {},
   "outputs": [],
   "source": [
    "VIC_Brisbane_Bus = add_id_and_postcode_cols(VIC_Brisbane_Bus)\n",
    "VIC_Brisbane_Bus.info()"
   ]
  },
  {
   "cell_type": "code",
   "execution_count": null,
   "metadata": {},
   "outputs": [],
   "source": [
    "VIC_Brisbane_Bus = get_postcode(VIC_Brisbane_Bus)"
   ]
  },
  {
   "cell_type": "code",
   "execution_count": null,
   "metadata": {},
   "outputs": [],
   "source": [
    "VIC_Brisbane_Bus.to_csv('dataset/finished/VIC_Brisbane_Bus.csv', index=False)"
   ]
  },
  {
   "cell_type": "code",
   "execution_count": null,
   "metadata": {},
   "outputs": [],
   "source": []
  },
  {
   "cell_type": "markdown",
   "metadata": {},
   "source": [
    "## SA_Adelaide_Metro"
   ]
  },
  {
   "cell_type": "code",
   "execution_count": null,
   "metadata": {},
   "outputs": [],
   "source": [
    "SA_Adelaide_Metro = pd.read_csv('dataset/SA_Adelaide Metro station.csv')\n",
    "SA_Adelaide_Metro.head(2)"
   ]
  },
  {
   "cell_type": "code",
   "execution_count": null,
   "metadata": {},
   "outputs": [],
   "source": [
    "SA_Adelaide_Metro[SA_Adelaide_Metro.duplicated()].count()"
   ]
  },
  {
   "cell_type": "code",
   "execution_count": null,
   "metadata": {},
   "outputs": [],
   "source": [
    "SA_Adelaide_Metro.info()"
   ]
  },
  {
   "cell_type": "code",
   "execution_count": null,
   "metadata": {},
   "outputs": [],
   "source": [
    "SA_Adelaide_Metro = add_id_and_postcode_cols(SA_Adelaide_Metro)\n",
    "SA_Adelaide_Metro.head(2)"
   ]
  },
  {
   "cell_type": "code",
   "execution_count": null,
   "metadata": {},
   "outputs": [],
   "source": [
    "SA_Adelaide_Metro[SA_Adelaide_Metro['postcode'] == '']"
   ]
  },
  {
   "cell_type": "code",
   "execution_count": null,
   "metadata": {},
   "outputs": [],
   "source": [
    "SA_Adelaide_Metro = get_postcode(SA_Adelaide_Metro)"
   ]
  },
  {
   "cell_type": "code",
   "execution_count": null,
   "metadata": {},
   "outputs": [],
   "source": [
    "SA_Adelaide_Metro.to_csv('dataset/finished/SA_Adelaide_Metro.csv', index=False)"
   ]
  },
  {
   "cell_type": "code",
   "execution_count": null,
   "metadata": {},
   "outputs": [],
   "source": []
  },
  {
   "cell_type": "markdown",
   "metadata": {},
   "source": [
    "## VIC_Regional_Bus"
   ]
  },
  {
   "cell_type": "code",
   "execution_count": null,
   "metadata": {},
   "outputs": [],
   "source": [
    "VIC_Regional_Bus = pd.read_csv('dataset/VIC_regional_bus_stop.csv')\n",
    "VIC_Regional_Bus.head(2)"
   ]
  },
  {
   "cell_type": "code",
   "execution_count": null,
   "metadata": {},
   "outputs": [],
   "source": [
    "VIC_Regional_Bus[VIC_Regional_Bus.duplicated()].count()"
   ]
  },
  {
   "cell_type": "code",
   "execution_count": null,
   "metadata": {},
   "outputs": [],
   "source": [
    "VIC_Regional_Bus.info()"
   ]
  },
  {
   "cell_type": "code",
   "execution_count": null,
   "metadata": {},
   "outputs": [],
   "source": [
    "VIC_Regional_Bus = VIC_Regional_Bus.rename(columns={'stop_long':'stop_lon'})"
   ]
  },
  {
   "cell_type": "code",
   "execution_count": null,
   "metadata": {},
   "outputs": [],
   "source": [
    "VIC_Regional_Bus = add_id_and_postcode_cols(VIC_Regional_Bus)\n",
    "VIC_Regional_Bus.head(2)"
   ]
  },
  {
   "cell_type": "code",
   "execution_count": null,
   "metadata": {},
   "outputs": [],
   "source": [
    "VIC_Regional_Bus[VIC_Regional_Bus['postcode'] == '']"
   ]
  },
  {
   "cell_type": "code",
   "execution_count": null,
   "metadata": {},
   "outputs": [],
   "source": [
    "VIC_Regional_Bus = get_postcode(VIC_Regional_Bus)"
   ]
  },
  {
   "cell_type": "code",
   "execution_count": null,
   "metadata": {},
   "outputs": [],
   "source": [
    "VIC_Regional_Bus.to_csv('dataset/finished/VIC_Regional_Bus.csv', index=False)"
   ]
  },
  {
   "cell_type": "code",
   "execution_count": null,
   "metadata": {},
   "outputs": [],
   "source": []
  },
  {
   "cell_type": "markdown",
   "metadata": {},
   "source": [
    "## Tasmania_Metro_Hobart"
   ]
  },
  {
   "cell_type": "code",
   "execution_count": null,
   "metadata": {},
   "outputs": [],
   "source": [
    "Tasmania_Metro_Hobart = pd.read_csv('dataset/Tasmania - Metro Hobart _GTFS v2.csv')\n",
    "Tasmania_Metro_Hobart.head(2)"
   ]
  },
  {
   "cell_type": "code",
   "execution_count": null,
   "metadata": {},
   "outputs": [],
   "source": [
    "Tasmania_Metro_Hobart[Tasmania_Metro_Hobart.duplicated()].count()"
   ]
  },
  {
   "cell_type": "code",
   "execution_count": null,
   "metadata": {},
   "outputs": [],
   "source": [
    "Tasmania_Metro_Hobart.info()"
   ]
  },
  {
   "cell_type": "code",
   "execution_count": null,
   "metadata": {},
   "outputs": [],
   "source": [
    "Tasmania_Metro_Hobart = add_id_and_postcode_cols(Tasmania_Metro_Hobart)\n",
    "Tasmania_Metro_Hobart.head(2)"
   ]
  },
  {
   "cell_type": "code",
   "execution_count": null,
   "metadata": {},
   "outputs": [],
   "source": [
    "Tasmania_Metro_Hobart[Tasmania_Metro_Hobart['postcode'] == '']"
   ]
  },
  {
   "cell_type": "code",
   "execution_count": null,
   "metadata": {},
   "outputs": [],
   "source": [
    "Tasmania_Metro_Hobart = get_postcode(Tasmania_Metro_Hobart)"
   ]
  },
  {
   "cell_type": "code",
   "execution_count": null,
   "metadata": {},
   "outputs": [],
   "source": [
    "Tasmania_Metro_Hobart.to_csv('dataset/finished/Tasmania_Metro_Hobart.csv', index=False)"
   ]
  },
  {
   "cell_type": "code",
   "execution_count": null,
   "metadata": {},
   "outputs": [],
   "source": []
  },
  {
   "cell_type": "markdown",
   "metadata": {},
   "source": [
    "## Tasmania_Metro_Launceston"
   ]
  },
  {
   "cell_type": "code",
   "execution_count": null,
   "metadata": {},
   "outputs": [],
   "source": [
    "Tasmania_Metro_Launceston = pd.read_csv('dataset/Tasmania - Metro  Launceston _GTFS V2.csv')\n",
    "Tasmania_Metro_Launceston.head(2)"
   ]
  },
  {
   "cell_type": "code",
   "execution_count": null,
   "metadata": {},
   "outputs": [],
   "source": [
    "Tasmania_Metro_Launceston[Tasmania_Metro_Launceston.duplicated()].count()"
   ]
  },
  {
   "cell_type": "code",
   "execution_count": null,
   "metadata": {},
   "outputs": [],
   "source": [
    "Tasmania_Metro_Launceston[Tasmania_Metro_Launceston.duplicated()]"
   ]
  },
  {
   "cell_type": "code",
   "execution_count": null,
   "metadata": {},
   "outputs": [],
   "source": [
    "Tasmania_Metro_Launceston.info()"
   ]
  },
  {
   "cell_type": "code",
   "execution_count": null,
   "metadata": {},
   "outputs": [],
   "source": [
    "Tasmania_Metro_Launceston = Tasmania_Metro_Launceston.iloc[:-4,:]"
   ]
  },
  {
   "cell_type": "code",
   "execution_count": null,
   "metadata": {},
   "outputs": [],
   "source": [
    "Tasmania_Metro_Launceston.info()"
   ]
  },
  {
   "cell_type": "code",
   "execution_count": null,
   "metadata": {},
   "outputs": [],
   "source": [
    "Tasmania_Metro_Launceston = add_id_and_postcode_cols(Tasmania_Metro_Launceston)\n",
    "Tasmania_Metro_Launceston.head(2)"
   ]
  },
  {
   "cell_type": "code",
   "execution_count": null,
   "metadata": {},
   "outputs": [],
   "source": [
    "Tasmania_Metro_Launceston[Tasmania_Metro_Launceston['postcode'] == '']"
   ]
  },
  {
   "cell_type": "code",
   "execution_count": null,
   "metadata": {},
   "outputs": [],
   "source": [
    "Tasmania_Metro_Launceston = get_postcode(Tasmania_Metro_Launceston)"
   ]
  },
  {
   "cell_type": "code",
   "execution_count": null,
   "metadata": {},
   "outputs": [],
   "source": [
    "Tasmania_Metro_Launceston.to_csv('dataset/finished/Tasmania_Metro_Launceston.csv', index=False)"
   ]
  },
  {
   "cell_type": "code",
   "execution_count": null,
   "metadata": {},
   "outputs": [],
   "source": []
  },
  {
   "cell_type": "markdown",
   "metadata": {},
   "source": [
    "## NT_Bus"
   ]
  },
  {
   "cell_type": "code",
   "execution_count": null,
   "metadata": {},
   "outputs": [],
   "source": [
    "NT_Bus = pd.read_csv('dataset/NT_Bus.csv')\n",
    "NT_Bus.head(2)"
   ]
  },
  {
   "cell_type": "code",
   "execution_count": null,
   "metadata": {},
   "outputs": [],
   "source": [
    "NT_Bus[NT_Bus.duplicated()].count()"
   ]
  },
  {
   "cell_type": "code",
   "execution_count": null,
   "metadata": {},
   "outputs": [],
   "source": [
    "NT_Bus.info()"
   ]
  },
  {
   "cell_type": "code",
   "execution_count": null,
   "metadata": {},
   "outputs": [],
   "source": [
    "NT_Bus = add_id_and_postcode_cols(NT_Bus)\n",
    "NT_Bus.info()"
   ]
  },
  {
   "cell_type": "code",
   "execution_count": null,
   "metadata": {},
   "outputs": [],
   "source": [
    "NT_Bus = get_postcode(NT_Bus)"
   ]
  },
  {
   "cell_type": "code",
   "execution_count": null,
   "metadata": {},
   "outputs": [],
   "source": [
    "NT_Bus.to_csv('dataset/finished/NT_Bus.csv', index=False)"
   ]
  },
  {
   "cell_type": "code",
   "execution_count": null,
   "metadata": {},
   "outputs": [],
   "source": []
  },
  {
   "cell_type": "markdown",
   "metadata": {},
   "source": [
    "## Tasmania_Metro_Burnie"
   ]
  },
  {
   "cell_type": "code",
   "execution_count": null,
   "metadata": {},
   "outputs": [],
   "source": [
    "Tasmania_Metro_Burnie = pd.read_csv('dataset/Tasmania -Metro  Burnie.csv')\n",
    "Tasmania_Metro_Burnie.head(2)"
   ]
  },
  {
   "cell_type": "code",
   "execution_count": null,
   "metadata": {},
   "outputs": [],
   "source": [
    "Tasmania_Metro_Burnie[Tasmania_Metro_Burnie.duplicated()].count()"
   ]
  },
  {
   "cell_type": "code",
   "execution_count": null,
   "metadata": {},
   "outputs": [],
   "source": [
    "Tasmania_Metro_Burnie.info()"
   ]
  },
  {
   "cell_type": "code",
   "execution_count": null,
   "metadata": {},
   "outputs": [],
   "source": [
    "Tasmania_Metro_Burnie = add_id_and_postcode_cols(Tasmania_Metro_Burnie).iloc[:302,:]\n",
    "Tasmania_Metro_Burnie.info()"
   ]
  },
  {
   "cell_type": "code",
   "execution_count": null,
   "metadata": {},
   "outputs": [],
   "source": [
    "Tasmania_Metro_Burnie = get_postcode(Tasmania_Metro_Burnie)"
   ]
  },
  {
   "cell_type": "code",
   "execution_count": null,
   "metadata": {},
   "outputs": [],
   "source": [
    "Tasmania_Metro_Burnie.to_csv('dataset/finished/Tasmania_Metro_Burnie.csv', index=False)"
   ]
  },
  {
   "cell_type": "code",
   "execution_count": null,
   "metadata": {},
   "outputs": [],
   "source": []
  },
  {
   "cell_type": "markdown",
   "metadata": {},
   "source": [
    "## SA_Bus_Shelter"
   ]
  },
  {
   "cell_type": "code",
   "execution_count": null,
   "metadata": {},
   "outputs": [],
   "source": [
    "SA_Bus_Shelter = pd.read_csv('dataset/SA_BusShelters.csv')\n",
    "SA_Bus_Shelter.head(2)"
   ]
  },
  {
   "cell_type": "code",
   "execution_count": null,
   "metadata": {},
   "outputs": [],
   "source": [
    "SA_Bus_Shelter.info()"
   ]
  },
  {
   "cell_type": "code",
   "execution_count": null,
   "metadata": {},
   "outputs": [],
   "source": [
    "SA_Bus_Shelter[SA_Bus_Shelter.duplicated()].count()"
   ]
  },
  {
   "cell_type": "code",
   "execution_count": null,
   "metadata": {},
   "outputs": [],
   "source": [
    "for i in range(len(SA_Bus_Shelter)):\n",
    "    coord = transformer.transform(SA_Bus_Shelter['stop_lon'][i], SA_Bus_Shelter['stop_lat'][i])\n",
    "    SA_Bus_Shelter['stop_lat'][i] = coord[0]\n",
    "    SA_Bus_Shelter['stop_lon'][i] = coord[1]\n",
    "    "
   ]
  },
  {
   "cell_type": "code",
   "execution_count": null,
   "metadata": {},
   "outputs": [],
   "source": [
    "SA_Bus_Shelter = add_id_and_postcode_cols(SA_Bus_Shelter)\n",
    "SA_Bus_Shelter.info()"
   ]
  },
  {
   "cell_type": "code",
   "execution_count": null,
   "metadata": {},
   "outputs": [],
   "source": [
    "SA_Bus_Shelter = get_postcode(SA_Bus_Shelter)"
   ]
  },
  {
   "cell_type": "code",
   "execution_count": null,
   "metadata": {},
   "outputs": [],
   "source": [
    "SA_Bus_Shelter.to_csv('dataset/finished/SA_Bus_Shelter.csv', index=False)"
   ]
  },
  {
   "cell_type": "code",
   "execution_count": null,
   "metadata": {},
   "outputs": [],
   "source": []
  },
  {
   "cell_type": "markdown",
   "metadata": {},
   "source": [
    "## NSW_Station"
   ]
  },
  {
   "cell_type": "code",
   "execution_count": null,
   "metadata": {},
   "outputs": [],
   "source": [
    "NSW_Station = pd.read_csv('dataset/NSW_Station.csv')\n",
    "NSW_Station.head(2)"
   ]
  },
  {
   "cell_type": "code",
   "execution_count": null,
   "metadata": {},
   "outputs": [],
   "source": [
    "NSW_Station[NSW_Station.duplicated()].count()"
   ]
  },
  {
   "cell_type": "code",
   "execution_count": null,
   "metadata": {},
   "outputs": [],
   "source": [
    "NSW_Station.info()"
   ]
  },
  {
   "cell_type": "code",
   "execution_count": null,
   "metadata": {},
   "outputs": [],
   "source": [
    "NSW_Station['stop_id'] = NSW_Station['stop_id'].fillna('Unknown')"
   ]
  },
  {
   "cell_type": "code",
   "execution_count": null,
   "metadata": {},
   "outputs": [],
   "source": [
    "NSW_Station.rename(columns={'stop_long':'stop_lon'}, inplace=True)"
   ]
  },
  {
   "cell_type": "code",
   "execution_count": null,
   "metadata": {},
   "outputs": [],
   "source": [
    "NSW_Station = add_id_and_postcode_cols(NSW_Station)\n",
    "NSW_Station.info()"
   ]
  },
  {
   "cell_type": "code",
   "execution_count": null,
   "metadata": {},
   "outputs": [],
   "source": [
    "NSW_Station[NSW_Station['postcode'] == '']"
   ]
  },
  {
   "cell_type": "code",
   "execution_count": null,
   "metadata": {},
   "outputs": [],
   "source": [
    "NSW_Station = get_postcode(NSW_Station)"
   ]
  },
  {
   "cell_type": "code",
   "execution_count": null,
   "metadata": {},
   "outputs": [],
   "source": [
    "NSW_Station.to_csv('dataset/finished/NSW_Station.csv', index=False)"
   ]
  },
  {
   "cell_type": "code",
   "execution_count": null,
   "metadata": {},
   "outputs": [],
   "source": []
  }
 ],
 "metadata": {
  "kernelspec": {
   "display_name": "Python 3.7.6 64-bit ('tf2': conda)",
   "language": "python",
   "name": "python37664bittf2condad07dc43a9ffc4bc7bc06ef8a41f822db"
  },
  "language_info": {
   "codemirror_mode": {
    "name": "ipython",
    "version": 3
   },
   "file_extension": ".py",
   "mimetype": "text/x-python",
   "name": "python",
   "nbconvert_exporter": "python",
   "pygments_lexer": "ipython3",
   "version": "3.7.6"
  }
 },
 "nbformat": 4,
 "nbformat_minor": 4
}
