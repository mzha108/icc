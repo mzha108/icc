{
 "cells": [
  {
   "cell_type": "code",
   "execution_count": 1,
   "metadata": {},
   "outputs": [],
   "source": [
    "import pandas as pd"
   ]
  },
  {
   "cell_type": "code",
   "execution_count": 2,
   "metadata": {},
   "outputs": [],
   "source": [
    "vic = pd.ExcelFile('Victoria_BySuburb_data.xlsx')"
   ]
  },
  {
   "cell_type": "code",
   "execution_count": 3,
   "metadata": {},
   "outputs": [],
   "source": [
    "sheet_name = vic.sheet_names[0]\n",
    "vic = vic.parse(sheet_name=sheet_name)"
   ]
  },
  {
   "cell_type": "code",
   "execution_count": null,
   "metadata": {},
   "outputs": [],
   "source": [
    "vic.head(2)"
   ]
  },
  {
   "cell_type": "code",
   "execution_count": 4,
   "metadata": {},
   "outputs": [],
   "source": [
    "vic['quarter'] = ''\n",
    "vic['district'] = ''\n",
    "vic['state_code'] = 'VIC'"
   ]
  },
  {
   "cell_type": "code",
   "execution_count": null,
   "metadata": {},
   "outputs": [],
   "source": [
    "vic"
   ]
  },
  {
   "cell_type": "code",
   "execution_count": 5,
   "metadata": {},
   "outputs": [],
   "source": [
    "vic.rename(columns={'Year ending December':'year', 'Postcode':'postcode', 'Suburb/Town Name':'suburb', \n",
    "                    'Offence Subdivision':'category', 'Offence Subgroup':'subcategory', 'Incidents Recorded':'records'}, inplace=True)"
   ]
  },
  {
   "cell_type": "code",
   "execution_count": 6,
   "metadata": {},
   "outputs": [],
   "source": [
    "vic.drop(columns=['Offence Division'], inplace=True)"
   ]
  },
  {
   "cell_type": "code",
   "execution_count": 7,
   "metadata": {},
   "outputs": [],
   "source": [
    "vic = vic[['district', 'suburb', 'postcode', 'state_code', 'year', 'quarter', 'category', 'subcategory', 'records']]"
   ]
  },
  {
   "cell_type": "code",
   "execution_count": null,
   "metadata": {},
   "outputs": [],
   "source": [
    "vic"
   ]
  },
  {
   "cell_type": "code",
   "execution_count": 8,
   "metadata": {},
   "outputs": [],
   "source": [
    "vic['category'] = vic['category'].str.split(' ', 1).str[1]\n",
    "vic['subcategory'] = vic['subcategory'].str.split(' ', 1).str[1]"
   ]
  },
  {
   "cell_type": "code",
   "execution_count": 9,
   "metadata": {},
   "outputs": [
    {
     "data": {
      "text/html": [
       "<div>\n",
       "<style scoped>\n",
       "    .dataframe tbody tr th:only-of-type {\n",
       "        vertical-align: middle;\n",
       "    }\n",
       "\n",
       "    .dataframe tbody tr th {\n",
       "        vertical-align: top;\n",
       "    }\n",
       "\n",
       "    .dataframe thead th {\n",
       "        text-align: right;\n",
       "    }\n",
       "</style>\n",
       "<table border=\"1\" class=\"dataframe\">\n",
       "  <thead>\n",
       "    <tr style=\"text-align: right;\">\n",
       "      <th></th>\n",
       "      <th>district</th>\n",
       "      <th>suburb</th>\n",
       "      <th>postcode</th>\n",
       "      <th>state_code</th>\n",
       "      <th>year</th>\n",
       "      <th>quarter</th>\n",
       "      <th>category</th>\n",
       "      <th>subcategory</th>\n",
       "      <th>records</th>\n",
       "    </tr>\n",
       "  </thead>\n",
       "  <tbody>\n",
       "    <tr>\n",
       "      <th>0</th>\n",
       "      <td></td>\n",
       "      <td>MELBOURNE</td>\n",
       "      <td>3000</td>\n",
       "      <td>VIC</td>\n",
       "      <td>2017</td>\n",
       "      <td></td>\n",
       "      <td>Assault and related offences</td>\n",
       "      <td>FV Serious assault</td>\n",
       "      <td>107</td>\n",
       "    </tr>\n",
       "    <tr>\n",
       "      <th>1</th>\n",
       "      <td></td>\n",
       "      <td>MELBOURNE</td>\n",
       "      <td>3000</td>\n",
       "      <td>VIC</td>\n",
       "      <td>2017</td>\n",
       "      <td></td>\n",
       "      <td>Assault and related offences</td>\n",
       "      <td>Non-FV Serious assault</td>\n",
       "      <td>616</td>\n",
       "    </tr>\n",
       "    <tr>\n",
       "      <th>2</th>\n",
       "      <td></td>\n",
       "      <td>MELBOURNE</td>\n",
       "      <td>3000</td>\n",
       "      <td>VIC</td>\n",
       "      <td>2017</td>\n",
       "      <td></td>\n",
       "      <td>Assault and related offences</td>\n",
       "      <td>Assault police, emergency services or other au...</td>\n",
       "      <td>135</td>\n",
       "    </tr>\n",
       "    <tr>\n",
       "      <th>3</th>\n",
       "      <td></td>\n",
       "      <td>MELBOURNE</td>\n",
       "      <td>3000</td>\n",
       "      <td>VIC</td>\n",
       "      <td>2017</td>\n",
       "      <td></td>\n",
       "      <td>Assault and related offences</td>\n",
       "      <td>FV Common assault</td>\n",
       "      <td>125</td>\n",
       "    </tr>\n",
       "    <tr>\n",
       "      <th>4</th>\n",
       "      <td></td>\n",
       "      <td>MELBOURNE</td>\n",
       "      <td>3000</td>\n",
       "      <td>VIC</td>\n",
       "      <td>2017</td>\n",
       "      <td></td>\n",
       "      <td>Assault and related offences</td>\n",
       "      <td>Non-FV Common assault</td>\n",
       "      <td>629</td>\n",
       "    </tr>\n",
       "    <tr>\n",
       "      <th>...</th>\n",
       "      <td>...</td>\n",
       "      <td>...</td>\n",
       "      <td>...</td>\n",
       "      <td>...</td>\n",
       "      <td>...</td>\n",
       "      <td>...</td>\n",
       "      <td>...</td>\n",
       "      <td>...</td>\n",
       "      <td>...</td>\n",
       "    </tr>\n",
       "    <tr>\n",
       "      <th>275354</th>\n",
       "      <td></td>\n",
       "      <td>INVERLOCH</td>\n",
       "      <td>3996</td>\n",
       "      <td>VIC</td>\n",
       "      <td>2008</td>\n",
       "      <td></td>\n",
       "      <td>Other government regulatory offences</td>\n",
       "      <td>Liquor and tobacco licensing offences</td>\n",
       "      <td>1</td>\n",
       "    </tr>\n",
       "    <tr>\n",
       "      <th>275355</th>\n",
       "      <td></td>\n",
       "      <td>POUND CREEK</td>\n",
       "      <td>3996</td>\n",
       "      <td>VIC</td>\n",
       "      <td>2008</td>\n",
       "      <td></td>\n",
       "      <td>Property damage</td>\n",
       "      <td>Criminal damage</td>\n",
       "      <td>1</td>\n",
       "    </tr>\n",
       "    <tr>\n",
       "      <th>275356</th>\n",
       "      <td></td>\n",
       "      <td>POUND CREEK</td>\n",
       "      <td>3996</td>\n",
       "      <td>VIC</td>\n",
       "      <td>2008</td>\n",
       "      <td></td>\n",
       "      <td>Burglary/Break and enter</td>\n",
       "      <td>Non-residential non-aggravated burglary</td>\n",
       "      <td>1</td>\n",
       "    </tr>\n",
       "    <tr>\n",
       "      <th>275357</th>\n",
       "      <td></td>\n",
       "      <td>POUND CREEK</td>\n",
       "      <td>3996</td>\n",
       "      <td>VIC</td>\n",
       "      <td>2008</td>\n",
       "      <td></td>\n",
       "      <td>Burglary/Break and enter</td>\n",
       "      <td>Unknown non-aggravated burglary</td>\n",
       "      <td>1</td>\n",
       "    </tr>\n",
       "    <tr>\n",
       "      <th>275358</th>\n",
       "      <td></td>\n",
       "      <td>POUND CREEK</td>\n",
       "      <td>3996</td>\n",
       "      <td>VIC</td>\n",
       "      <td>2008</td>\n",
       "      <td></td>\n",
       "      <td>Theft</td>\n",
       "      <td>Steal from a motor vehicle</td>\n",
       "      <td>1</td>\n",
       "    </tr>\n",
       "  </tbody>\n",
       "</table>\n",
       "<p>275359 rows × 9 columns</p>\n",
       "</div>"
      ],
      "text/plain": [
       "       district       suburb  postcode state_code  year quarter  \\\n",
       "0                  MELBOURNE      3000        VIC  2017           \n",
       "1                  MELBOURNE      3000        VIC  2017           \n",
       "2                  MELBOURNE      3000        VIC  2017           \n",
       "3                  MELBOURNE      3000        VIC  2017           \n",
       "4                  MELBOURNE      3000        VIC  2017           \n",
       "...         ...          ...       ...        ...   ...     ...   \n",
       "275354             INVERLOCH      3996        VIC  2008           \n",
       "275355           POUND CREEK      3996        VIC  2008           \n",
       "275356           POUND CREEK      3996        VIC  2008           \n",
       "275357           POUND CREEK      3996        VIC  2008           \n",
       "275358           POUND CREEK      3996        VIC  2008           \n",
       "\n",
       "                                    category  \\\n",
       "0               Assault and related offences   \n",
       "1               Assault and related offences   \n",
       "2               Assault and related offences   \n",
       "3               Assault and related offences   \n",
       "4               Assault and related offences   \n",
       "...                                      ...   \n",
       "275354  Other government regulatory offences   \n",
       "275355                       Property damage   \n",
       "275356              Burglary/Break and enter   \n",
       "275357              Burglary/Break and enter   \n",
       "275358                                 Theft   \n",
       "\n",
       "                                              subcategory  records  \n",
       "0                                      FV Serious assault      107  \n",
       "1                                  Non-FV Serious assault      616  \n",
       "2       Assault police, emergency services or other au...      135  \n",
       "3                                       FV Common assault      125  \n",
       "4                                   Non-FV Common assault      629  \n",
       "...                                                   ...      ...  \n",
       "275354              Liquor and tobacco licensing offences        1  \n",
       "275355                                    Criminal damage        1  \n",
       "275356            Non-residential non-aggravated burglary        1  \n",
       "275357                    Unknown non-aggravated burglary        1  \n",
       "275358                         Steal from a motor vehicle        1  \n",
       "\n",
       "[275359 rows x 9 columns]"
      ]
     },
     "execution_count": 9,
     "metadata": {},
     "output_type": "execute_result"
    }
   ],
   "source": [
    "vic"
   ]
  },
  {
   "cell_type": "code",
   "execution_count": 10,
   "metadata": {},
   "outputs": [],
   "source": [
    "vic.to_csv('finished/VIC.csv', index=False)"
   ]
  },
  {
   "cell_type": "code",
   "execution_count": null,
   "metadata": {},
   "outputs": [],
   "source": []
  }
 ],
 "metadata": {
  "kernelspec": {
   "display_name": "Python 3.7.6 64-bit ('tf2': conda)",
   "language": "python",
   "name": "python37664bittf2condad07dc43a9ffc4bc7bc06ef8a41f822db"
  },
  "language_info": {
   "codemirror_mode": {
    "name": "ipython",
    "version": 3
   },
   "file_extension": ".py",
   "mimetype": "text/x-python",
   "name": "python",
   "nbconvert_exporter": "python",
   "pygments_lexer": "ipython3",
   "version": "3.7.6"
  }
 },
 "nbformat": 4,
 "nbformat_minor": 4
}
