{
 "cells": [
  {
   "cell_type": "code",
   "execution_count": 63,
   "metadata": {},
   "outputs": [],
   "source": [
    "import pandas as pd\n",
    "import time"
   ]
  },
  {
   "cell_type": "code",
   "execution_count": 66,
   "metadata": {},
   "outputs": [],
   "source": [
    "def display_time(func):\n",
    "    def wrapper(*args):\n",
    "        t1 = time.time()\n",
    "        func(*args)\n",
    "        t2 = time.time()\n",
    "        print('Time used is: {:.4}m'.format((t2 - t1) / 60))\n",
    "    return wrapper"
   ]
  },
  {
   "cell_type": "code",
   "execution_count": 2,
   "metadata": {},
   "outputs": [],
   "source": [
    "def convert_date(data):\n",
    "    year = data.split('/')[0]\n",
    "    month = data.split('/')[1]\n",
    "    \n",
    "    if month == 'Jan' or month == 'Feb' or month == 'Mar':\n",
    "        return year + ' Q1'\n",
    "    elif month == 'Apr' or month == 'May' or month == 'Jun':\n",
    "        return year + ' Q2'\n",
    "    elif month == 'Jul' or month == 'Aug' or month == 'Sep':\n",
    "        return year +  ' Q3'\n",
    "    else:\n",
    "        return year + ' Q4'"
   ]
  },
  {
   "cell_type": "code",
   "execution_count": 90,
   "metadata": {},
   "outputs": [],
   "source": [
    "@display_time\n",
    "def transform_data(nsw):\n",
    "    year = nsw.columns[2].split(' ')[0]\n",
    "    \n",
    "    nsw = nsw.set_index(['Incident suburb', 'Offence'])\n",
    "    nsw = nsw.stack().to_frame()\n",
    "    nsw = nsw.rename(columns={0:'records'})\n",
    "    nsw.index.names=['suburb', 'category', 'year quarter']\n",
    "    nsw = nsw.groupby(['suburb', 'category', 'year quarter']).sum()\n",
    "    nsw = nsw.reset_index()\n",
    "    \n",
    "    nsw['district'] = ''\n",
    "    nsw['state_code'] = 'NSW'\n",
    "    nsw['postcode'] = ''\n",
    "    nsw['subcategory'] = ''\n",
    "    \n",
    "    nsw['year'] = nsw['year quarter'].str.split(' ').str[0]\n",
    "    nsw['quarter'] = nsw['year quarter'].str.split(' ').str[1]\n",
    "    nsw.drop(columns=['year quarter'], inplace=True)\n",
    "    \n",
    "    \n",
    "    nsw = nsw[['district', 'suburb', 'postcode', 'state_code', 'category', 'subcategory', 'year', 'quarter', 'records']]\n",
    "    \n",
    "    nsw.to_excel('finished/NSW/NSW' + year + '.xlsx', index=False)\n",
    "    print('NSW_', year, ' has finished!')"
   ]
  },
  {
   "cell_type": "code",
   "execution_count": 3,
   "metadata": {},
   "outputs": [
    {
     "data": {
      "text/html": [
       "<div>\n",
       "<style scoped>\n",
       "    .dataframe tbody tr th:only-of-type {\n",
       "        vertical-align: middle;\n",
       "    }\n",
       "\n",
       "    .dataframe tbody tr th {\n",
       "        vertical-align: top;\n",
       "    }\n",
       "\n",
       "    .dataframe thead th {\n",
       "        text-align: right;\n",
       "    }\n",
       "</style>\n",
       "<table border=\"1\" class=\"dataframe\">\n",
       "  <thead>\n",
       "    <tr style=\"text-align: right;\">\n",
       "      <th></th>\n",
       "      <th>0</th>\n",
       "      <th>1</th>\n",
       "      <th>2</th>\n",
       "      <th>3</th>\n",
       "      <th>4</th>\n",
       "      <th>5</th>\n",
       "      <th>6</th>\n",
       "      <th>7</th>\n",
       "      <th>8</th>\n",
       "      <th>9</th>\n",
       "      <th>...</th>\n",
       "      <th>52</th>\n",
       "      <th>53</th>\n",
       "      <th>54</th>\n",
       "      <th>55</th>\n",
       "      <th>56</th>\n",
       "      <th>57</th>\n",
       "      <th>58</th>\n",
       "      <th>59</th>\n",
       "      <th>60</th>\n",
       "      <th>61</th>\n",
       "    </tr>\n",
       "  </thead>\n",
       "  <tbody>\n",
       "    <tr>\n",
       "      <th>0</th>\n",
       "      <td>Incident suburb</td>\n",
       "      <td>Offence</td>\n",
       "      <td>2011/Jan</td>\n",
       "      <td>2011/Feb</td>\n",
       "      <td>2011/Mar</td>\n",
       "      <td>2011/Apr</td>\n",
       "      <td>2011/May</td>\n",
       "      <td>2011/Jun</td>\n",
       "      <td>2011/Jul</td>\n",
       "      <td>2011/Aug</td>\n",
       "      <td>...</td>\n",
       "      <td>2015/Mar</td>\n",
       "      <td>2015/Apr</td>\n",
       "      <td>2015/May</td>\n",
       "      <td>2015/Jun</td>\n",
       "      <td>2015/Jul</td>\n",
       "      <td>2015/Aug</td>\n",
       "      <td>2015/Sep</td>\n",
       "      <td>2015/Oct</td>\n",
       "      <td>2015/Nov</td>\n",
       "      <td>2015/Dec</td>\n",
       "    </tr>\n",
       "    <tr>\n",
       "      <th>1</th>\n",
       "      <td>Unknown / missing</td>\n",
       "      <td>Murder*</td>\n",
       "      <td>0</td>\n",
       "      <td>0</td>\n",
       "      <td>0</td>\n",
       "      <td>0</td>\n",
       "      <td>0</td>\n",
       "      <td>0</td>\n",
       "      <td>0</td>\n",
       "      <td>0</td>\n",
       "      <td>...</td>\n",
       "      <td>0</td>\n",
       "      <td>0</td>\n",
       "      <td>0</td>\n",
       "      <td>0</td>\n",
       "      <td>0</td>\n",
       "      <td>0</td>\n",
       "      <td>0</td>\n",
       "      <td>0</td>\n",
       "      <td>0</td>\n",
       "      <td>0</td>\n",
       "    </tr>\n",
       "  </tbody>\n",
       "</table>\n",
       "<p>2 rows × 62 columns</p>\n",
       "</div>"
      ],
      "text/plain": [
       "                  0        1         2         3         4         5   \\\n",
       "0    Incident suburb  Offence  2011/Jan  2011/Feb  2011/Mar  2011/Apr   \n",
       "1  Unknown / missing  Murder*         0         0         0         0   \n",
       "\n",
       "         6         7         8         9   ...        52        53        54  \\\n",
       "0  2011/May  2011/Jun  2011/Jul  2011/Aug  ...  2015/Mar  2015/Apr  2015/May   \n",
       "1         0         0         0         0  ...         0         0         0   \n",
       "\n",
       "         55        56        57        58        59        60        61  \n",
       "0  2015/Jun  2015/Jul  2015/Aug  2015/Sep  2015/Oct  2015/Nov  2015/Dec  \n",
       "1         0         0         0         0         0         0         0  \n",
       "\n",
       "[2 rows x 62 columns]"
      ]
     },
     "execution_count": 3,
     "metadata": {},
     "output_type": "execute_result"
    }
   ],
   "source": [
    "nsw = pd.read_excel('NSW.xlsx', header=None)\n",
    "nsw.head(2)"
   ]
  },
  {
   "cell_type": "code",
   "execution_count": 4,
   "metadata": {},
   "outputs": [],
   "source": [
    "for i in range(len(nsw.loc[0])):\n",
    "    if i < 2:\n",
    "        continue\n",
    "    else:\n",
    "        nsw.loc[0][i] = convert_date(nsw.loc[0][i])\n",
    "               "
   ]
  },
  {
   "cell_type": "code",
   "execution_count": 5,
   "metadata": {},
   "outputs": [],
   "source": [
    "nsw.drop(nsw[nsw[0] == 'Unknown / missing'].index,inplace=True)"
   ]
  },
  {
   "cell_type": "code",
   "execution_count": 6,
   "metadata": {},
   "outputs": [],
   "source": [
    "columns_name_list = list(nsw.loc[0, :])"
   ]
  },
  {
   "cell_type": "code",
   "execution_count": 7,
   "metadata": {},
   "outputs": [],
   "source": [
    "nsw.columns = columns_name_list"
   ]
  },
  {
   "cell_type": "code",
   "execution_count": 8,
   "metadata": {},
   "outputs": [],
   "source": [
    "nsw.drop(nsw.loc[0:1,:].index, inplace=True)"
   ]
  },
  {
   "cell_type": "code",
   "execution_count": 9,
   "metadata": {},
   "outputs": [],
   "source": [
    "nsw = nsw.reset_index().drop(columns=['index'])"
   ]
  },
  {
   "cell_type": "code",
   "execution_count": 49,
   "metadata": {},
   "outputs": [],
   "source": [
    "nsw2011 = nsw[['Incident suburb', 'Offence', '2011 Q1', '2011 Q2', '2011 Q3', '2011 Q4']]\n",
    "nsw2012 = nsw[['Incident suburb', 'Offence', '2012 Q1', '2012 Q2', '2012 Q3', '2012 Q4']]\n",
    "nsw2013 = nsw[['Incident suburb', 'Offence', '2013 Q1', '2013 Q2', '2013 Q3', '2013 Q4']]\n",
    "nsw2014 = nsw[['Incident suburb', 'Offence', '2014 Q1', '2014 Q2', '2014 Q3', '2014 Q4']]\n",
    "nsw2015 = nsw[['Incident suburb', 'Offence', '2015 Q1', '2015 Q2', '2015 Q3', '2015 Q4']]"
   ]
  },
  {
   "cell_type": "code",
   "execution_count": 54,
   "metadata": {},
   "outputs": [],
   "source": [
    "nsw_list = [nsw2011, nsw2012, nsw2013, nsw2014, nsw2015]"
   ]
  },
  {
   "cell_type": "code",
   "execution_count": 91,
   "metadata": {},
   "outputs": [
    {
     "name": "stdout",
     "output_type": "stream",
     "text": [
      "NSW_ 2011  has finished!\n",
      "Time used is: 3.882m\n",
      "NSW_ 2012  has finished!\n",
      "Time used is: 3.895m\n",
      "NSW_ 2013  has finished!\n",
      "Time used is: 3.925m\n",
      "NSW_ 2014  has finished!\n",
      "Time used is: 3.874m\n",
      "NSW_ 2015  has finished!\n",
      "Time used is: 4.001m\n"
     ]
    }
   ],
   "source": [
    "for i in range(len(nsw_list)):\n",
    "    transform_data(nsw_list[i])"
   ]
  },
  {
   "cell_type": "code",
   "execution_count": 13,
   "metadata": {},
   "outputs": [],
   "source": []
  }
 ],
 "metadata": {
  "kernelspec": {
   "display_name": "Python 3.7.6 64-bit ('tf2': conda)",
   "language": "python",
   "name": "python37664bittf2condad07dc43a9ffc4bc7bc06ef8a41f822db"
  },
  "language_info": {
   "codemirror_mode": {
    "name": "ipython",
    "version": 3
   },
   "file_extension": ".py",
   "mimetype": "text/x-python",
   "name": "python",
   "nbconvert_exporter": "python",
   "pygments_lexer": "ipython3",
   "version": "3.7.6"
  }
 },
 "nbformat": 4,
 "nbformat_minor": 4
}
