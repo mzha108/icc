{
 "cells": [
  {
   "cell_type": "code",
   "execution_count": 1,
   "metadata": {},
   "outputs": [],
   "source": [
    "import pandas as pd\n",
    "import numpy as np"
   ]
  },
  {
   "cell_type": "code",
   "execution_count": 2,
   "metadata": {},
   "outputs": [],
   "source": [
    "df_pivot = pd.read_excel('South Australia_data.xlsx', sheet_name='2012-2017')\n",
    "# df_pivot.head(2)"
   ]
  },
  {
   "cell_type": "code",
   "execution_count": 3,
   "metadata": {},
   "outputs": [],
   "source": [
    "def date_transform(datetime):\n",
    "    if datetime.month < 4:\n",
    "        date = str(datetime.year) + ' Q1'\n",
    "    elif datetime.month < 7:\n",
    "        date = str(datetime.year) + ' Q2'\n",
    "    elif datetime.month < 10:\n",
    "        date = str(datetime.year) + ' Q3'\n",
    "    else:\n",
    "        date = str(datetime.year) + ' Q4'\n",
    "    return date"
   ]
  },
  {
   "cell_type": "code",
   "execution_count": 4,
   "metadata": {},
   "outputs": [],
   "source": [
    "df_pivot.drop(columns=['Offence Level 1  Description'], inplace=True)"
   ]
  },
  {
   "cell_type": "code",
   "execution_count": 5,
   "metadata": {},
   "outputs": [],
   "source": [
    "df_pivot.rename(columns={'Offence Level 2 Description':'Category', 'Offence Level 3 Description':'Subcategory', 'Postcode - Incident':'postcode', 'Suburb - Incident':'suburb'}, inplace=True)"
   ]
  },
  {
   "cell_type": "code",
   "execution_count": 6,
   "metadata": {},
   "outputs": [],
   "source": [
    "df_pivot['period'] = ''"
   ]
  },
  {
   "cell_type": "code",
   "execution_count": 7,
   "metadata": {},
   "outputs": [],
   "source": [
    "for i in range(len(df_pivot)):\n",
    "    datetime = df_pivot['Reported Date'][i]\n",
    "    df_pivot['period'].values[i] = date_transform(datetime)"
   ]
  },
  {
   "cell_type": "code",
   "execution_count": 8,
   "metadata": {},
   "outputs": [],
   "source": [
    "df_pivot.drop(columns=['Reported Date'], inplace=True)"
   ]
  },
  {
   "cell_type": "code",
   "execution_count": 9,
   "metadata": {},
   "outputs": [],
   "source": [
    "df_pivot.drop(df_pivot[df_pivot['suburb'] == 'ADDRESS UNKNOWN'].index, inplace=True)"
   ]
  },
  {
   "cell_type": "code",
   "execution_count": 10,
   "metadata": {},
   "outputs": [
    {
     "data": {
      "text/html": [
       "<div>\n",
       "<style scoped>\n",
       "    .dataframe tbody tr th:only-of-type {\n",
       "        vertical-align: middle;\n",
       "    }\n",
       "\n",
       "    .dataframe tbody tr th {\n",
       "        vertical-align: top;\n",
       "    }\n",
       "\n",
       "    .dataframe thead th {\n",
       "        text-align: right;\n",
       "    }\n",
       "</style>\n",
       "<table border=\"1\" class=\"dataframe\">\n",
       "  <thead>\n",
       "    <tr style=\"text-align: right;\">\n",
       "      <th></th>\n",
       "      <th>suburb</th>\n",
       "      <th>postcode</th>\n",
       "      <th>Category</th>\n",
       "      <th>Subcategory</th>\n",
       "      <th>Offence Count</th>\n",
       "      <th>period</th>\n",
       "    </tr>\n",
       "  </thead>\n",
       "  <tbody>\n",
       "    <tr>\n",
       "      <th>0</th>\n",
       "      <td>ABERFOYLE PARK</td>\n",
       "      <td>5159.0</td>\n",
       "      <td>ACTS INTENDED TO CAUSE INJURY</td>\n",
       "      <td>Serious Assault not resulting in injury</td>\n",
       "      <td>1</td>\n",
       "      <td>2012 Q3</td>\n",
       "    </tr>\n",
       "    <tr>\n",
       "      <th>1</th>\n",
       "      <td>ABERFOYLE PARK</td>\n",
       "      <td>5159.0</td>\n",
       "      <td>PROPERTY DAMAGE AND ENVIRONMENTAL</td>\n",
       "      <td>Property damage by fire or explosion</td>\n",
       "      <td>1</td>\n",
       "      <td>2012 Q3</td>\n",
       "    </tr>\n",
       "    <tr>\n",
       "      <th>2</th>\n",
       "      <td>ADELAIDE</td>\n",
       "      <td>5000.0</td>\n",
       "      <td>ACTS INTENDED TO CAUSE INJURY</td>\n",
       "      <td>Common Assault</td>\n",
       "      <td>4</td>\n",
       "      <td>2012 Q3</td>\n",
       "    </tr>\n",
       "    <tr>\n",
       "      <th>3</th>\n",
       "      <td>ADELAIDE</td>\n",
       "      <td>5000.0</td>\n",
       "      <td>ACTS INTENDED TO CAUSE INJURY</td>\n",
       "      <td>Serious Assault not resulting in injury</td>\n",
       "      <td>2</td>\n",
       "      <td>2012 Q3</td>\n",
       "    </tr>\n",
       "    <tr>\n",
       "      <th>4</th>\n",
       "      <td>ADELAIDE</td>\n",
       "      <td>5000.0</td>\n",
       "      <td>PROPERTY DAMAGE AND ENVIRONMENTAL</td>\n",
       "      <td>Graffiti</td>\n",
       "      <td>1</td>\n",
       "      <td>2012 Q3</td>\n",
       "    </tr>\n",
       "    <tr>\n",
       "      <th>...</th>\n",
       "      <td>...</td>\n",
       "      <td>...</td>\n",
       "      <td>...</td>\n",
       "      <td>...</td>\n",
       "      <td>...</td>\n",
       "      <td>...</td>\n",
       "    </tr>\n",
       "    <tr>\n",
       "      <th>487129</th>\n",
       "      <td>WHYALLA STUART</td>\n",
       "      <td>5608.0</td>\n",
       "      <td>PROPERTY DAMAGE AND ENVIRONMENTAL</td>\n",
       "      <td>Other property damage and environmental</td>\n",
       "      <td>1</td>\n",
       "      <td>2017 Q4</td>\n",
       "    </tr>\n",
       "    <tr>\n",
       "      <th>487130</th>\n",
       "      <td>WHYALLA STUART</td>\n",
       "      <td>5608.0</td>\n",
       "      <td>THEFT AND RELATED OFFENCES</td>\n",
       "      <td>Other theft</td>\n",
       "      <td>1</td>\n",
       "      <td>2017 Q4</td>\n",
       "    </tr>\n",
       "    <tr>\n",
       "      <th>487131</th>\n",
       "      <td>WINDSOR GARDENS</td>\n",
       "      <td>5087.0</td>\n",
       "      <td>ACTS INTENDED TO CAUSE INJURY</td>\n",
       "      <td>Serious Assault not resulting in injury</td>\n",
       "      <td>4</td>\n",
       "      <td>2017 Q4</td>\n",
       "    </tr>\n",
       "    <tr>\n",
       "      <th>487132</th>\n",
       "      <td>WOODVILLE GARDENS</td>\n",
       "      <td>5012.0</td>\n",
       "      <td>PROPERTY DAMAGE AND ENVIRONMENTAL</td>\n",
       "      <td>Other property damage and environmental</td>\n",
       "      <td>3</td>\n",
       "      <td>2017 Q4</td>\n",
       "    </tr>\n",
       "    <tr>\n",
       "      <th>487133</th>\n",
       "      <td>WOODVILLE SOUTH</td>\n",
       "      <td>5011.0</td>\n",
       "      <td>OTHER OFFENCES AGAINST THE PERSON</td>\n",
       "      <td>Abduction, harassment and other offences</td>\n",
       "      <td>1</td>\n",
       "      <td>2017 Q4</td>\n",
       "    </tr>\n",
       "  </tbody>\n",
       "</table>\n",
       "<p>487013 rows × 6 columns</p>\n",
       "</div>"
      ],
      "text/plain": [
       "                   suburb  postcode                           Category  \\\n",
       "0          ABERFOYLE PARK    5159.0      ACTS INTENDED TO CAUSE INJURY   \n",
       "1          ABERFOYLE PARK    5159.0  PROPERTY DAMAGE AND ENVIRONMENTAL   \n",
       "2                ADELAIDE    5000.0      ACTS INTENDED TO CAUSE INJURY   \n",
       "3                ADELAIDE    5000.0      ACTS INTENDED TO CAUSE INJURY   \n",
       "4                ADELAIDE    5000.0  PROPERTY DAMAGE AND ENVIRONMENTAL   \n",
       "...                   ...       ...                                ...   \n",
       "487129     WHYALLA STUART    5608.0  PROPERTY DAMAGE AND ENVIRONMENTAL   \n",
       "487130     WHYALLA STUART    5608.0         THEFT AND RELATED OFFENCES   \n",
       "487131    WINDSOR GARDENS    5087.0      ACTS INTENDED TO CAUSE INJURY   \n",
       "487132  WOODVILLE GARDENS    5012.0  PROPERTY DAMAGE AND ENVIRONMENTAL   \n",
       "487133    WOODVILLE SOUTH    5011.0  OTHER OFFENCES AGAINST THE PERSON   \n",
       "\n",
       "                                     Subcategory  Offence Count   period  \n",
       "0        Serious Assault not resulting in injury              1  2012 Q3  \n",
       "1           Property damage by fire or explosion              1  2012 Q3  \n",
       "2                                 Common Assault              4  2012 Q3  \n",
       "3        Serious Assault not resulting in injury              2  2012 Q3  \n",
       "4                                       Graffiti              1  2012 Q3  \n",
       "...                                          ...            ...      ...  \n",
       "487129   Other property damage and environmental              1  2017 Q4  \n",
       "487130                               Other theft              1  2017 Q4  \n",
       "487131   Serious Assault not resulting in injury              4  2017 Q4  \n",
       "487132   Other property damage and environmental              3  2017 Q4  \n",
       "487133  Abduction, harassment and other offences              1  2017 Q4  \n",
       "\n",
       "[487013 rows x 6 columns]"
      ]
     },
     "execution_count": 10,
     "metadata": {},
     "output_type": "execute_result"
    }
   ],
   "source": [
    "df_pivot"
   ]
  },
  {
   "cell_type": "code",
   "execution_count": 11,
   "metadata": {},
   "outputs": [],
   "source": [
    "df_pivot['postcode'] = df_pivot['postcode'].apply(str).map(lambda x:x.split('.')[0])"
   ]
  },
  {
   "cell_type": "code",
   "execution_count": null,
   "metadata": {},
   "outputs": [],
   "source": []
  },
  {
   "cell_type": "code",
   "execution_count": 12,
   "metadata": {},
   "outputs": [],
   "source": [
    "df_pivot = df_pivot.groupby(['suburb', 'postcode', 'Category', 'Subcategory', 'period']).sum()"
   ]
  },
  {
   "cell_type": "code",
   "execution_count": 13,
   "metadata": {},
   "outputs": [],
   "source": [
    "df_pivot['year'] = ''\n",
    "df_pivot['quarter'] = ''\n",
    "df_pivot['state_code'] = 'SA'"
   ]
  },
  {
   "cell_type": "code",
   "execution_count": 18,
   "metadata": {},
   "outputs": [],
   "source": [
    "df_pivot = df_pivot.reset_index()"
   ]
  },
  {
   "cell_type": "code",
   "execution_count": 19,
   "metadata": {},
   "outputs": [],
   "source": [
    "for i in range(len(df_pivot)):\n",
    "    df_pivot['year'].values[i] = df_pivot['period'].values[i].split(' ')[0]\n",
    "    df_pivot['quarter'].values[i] = df_pivot['period'].values[i].split(' ')[1]"
   ]
  },
  {
   "cell_type": "code",
   "execution_count": 20,
   "metadata": {},
   "outputs": [],
   "source": [
    "df_pivot.drop(columns=['period'], inplace=True)"
   ]
  },
  {
   "cell_type": "code",
   "execution_count": 21,
   "metadata": {},
   "outputs": [],
   "source": [
    "df_pivot.to_csv('finished/SA.csv', index=False)"
   ]
  },
  {
   "cell_type": "code",
   "execution_count": null,
   "metadata": {},
   "outputs": [],
   "source": []
  }
 ],
 "metadata": {
  "kernelspec": {
   "display_name": "Python 3.7.6 64-bit ('tf2': conda)",
   "language": "python",
   "name": "python37664bittf2condad07dc43a9ffc4bc7bc06ef8a41f822db"
  },
  "language_info": {
   "codemirror_mode": {
    "name": "ipython",
    "version": 3
   },
   "file_extension": ".py",
   "mimetype": "text/x-python",
   "name": "python",
   "nbconvert_exporter": "python",
   "pygments_lexer": "ipython3",
   "version": "3.7.6"
  }
 },
 "nbformat": 4,
 "nbformat_minor": 4
}
