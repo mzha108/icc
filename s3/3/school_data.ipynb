{
 "cells": [
  {
   "cell_type": "code",
   "execution_count": null,
   "metadata": {},
   "outputs": [],
   "source": [
    "import pandas as pd\n",
    "from geopy.geocoders import GoogleV3\n",
    "import re\n",
    "import numpy as np"
   ]
  },
  {
   "cell_type": "code",
   "execution_count": null,
   "metadata": {},
   "outputs": [],
   "source": [
    "geolocator = GoogleV3(api_key='api')\n",
    "cols = ['id', 'school_name', 'school_address', 'suburb', 'postcode', 'sector', 'school_type', 'school_lat', 'school_lon']"
   ]
  },
  {
   "cell_type": "code",
   "execution_count": null,
   "metadata": {},
   "outputs": [],
   "source": [
    "def get_coord_and_postcode(school_name):\n",
    "    '''\n",
    "    params:\n",
    "        \n",
    "    return:\n",
    "        \n",
    "    '''\n",
    "    location = geolocator.geocode(school_name)\n",
    "    if location is not None:\n",
    "        postcode = location[0].split(',')[-2].split(' ')[-1]\n",
    "        school_lat = location[1][0]\n",
    "        school_lon = location[1][1]\n",
    "        # print(postcode, school_lat, school_lon)\n",
    "        return (postcode, school_lat, school_lon)\n",
    "    else:\n",
    "        return None\n",
    "    "
   ]
  },
  {
   "cell_type": "code",
   "execution_count": null,
   "metadata": {},
   "outputs": [],
   "source": [
    "def get_postcode(coord):\n",
    "    '''\n",
    "    params:\n",
    "        \n",
    "    return:\n",
    "        \n",
    "    '''\n",
    "    postcode = geolocator.reverse(coord)[0][0].split(',')[-2].split(' ')[-1]\n",
    "    return postcode"
   ]
  },
  {
   "cell_type": "code",
   "execution_count": null,
   "metadata": {},
   "outputs": [],
   "source": [
    "def get_school_address(school_name):\n",
    "    '''\n",
    "    params:\n",
    "        \n",
    "    return:\n",
    "        \n",
    "    '''\n",
    "    location = geolocator.geocode(school_name)\n",
    "    if location is not None:\n",
    "#         print('1. ', school_name)\n",
    "        address = location.address.split(',', 1)[0]\n",
    "        return address\n",
    "    else:\n",
    "        print('2. ', school_name)\n",
    "        return 'N/A'"
   ]
  },
  {
   "cell_type": "markdown",
   "metadata": {},
   "source": [
    "## ACT_School_locations"
   ]
  },
  {
   "cell_type": "code",
   "execution_count": null,
   "metadata": {},
   "outputs": [],
   "source": [
    "ACT_School = pd.read_csv('datasets/ACT_School_Locations.csv', dtype={'Location 1':str})\n",
    "ACT_School.head(2)"
   ]
  },
  {
   "cell_type": "code",
   "execution_count": null,
   "metadata": {},
   "outputs": [],
   "source": [
    "ACT_School.rename(columns={'School Name':'school_name', 'Street Address':'school_address', 'Sector':'sector','Suburb':'suburb', 'Type':'school_type'}, inplace=True)"
   ]
  },
  {
   "cell_type": "code",
   "execution_count": null,
   "metadata": {},
   "outputs": [],
   "source": [
    "ACT_School['postcode'] = ''\n",
    "ACT_School['id'] = range(1, len(ACT_School)+1)\n",
    "ACT_School['school_lat'] = 0.\n",
    "ACT_School['school_lon'] = 0."
   ]
  },
  {
   "cell_type": "code",
   "execution_count": null,
   "metadata": {},
   "outputs": [],
   "source": [
    "ACT_School['Location 1'].fillna('nan', inplace=True)"
   ]
  },
  {
   "cell_type": "code",
   "execution_count": null,
   "metadata": {},
   "outputs": [],
   "source": [
    "for i in range(len(ACT_School)):\n",
    "    if ACT_School['Location 1'][i] != 'nan':\n",
    "        ACT_School['school_lat'].values[i] = re.findall(r'[(](.*?)[)]', ACT_School['Location 1'][i])[0].split(',')[0]\n",
    "        ACT_School['school_lon'].values[i] = re.findall(r'[(](.*?)[)]', ACT_School['Location 1'][i])[0].split(',')[1]\n",
    "    else:\n",
    "        continue"
   ]
  },
  {
   "cell_type": "code",
   "execution_count": null,
   "metadata": {},
   "outputs": [],
   "source": [
    "ACT_School.drop(columns=['Location 1'], inplace=True)"
   ]
  },
  {
   "cell_type": "code",
   "execution_count": null,
   "metadata": {},
   "outputs": [],
   "source": [
    "ACT_School = ACT_School.reindex(columns=cols)"
   ]
  },
  {
   "cell_type": "code",
   "execution_count": null,
   "metadata": {},
   "outputs": [],
   "source": [
    "ACT_School.head(2)"
   ]
  },
  {
   "cell_type": "code",
   "execution_count": null,
   "metadata": {},
   "outputs": [],
   "source": [
    "for i in range(len(ACT_School)):\n",
    "    if ACT_School['school_lat'].values[i] != 0. and ACT_School['school_lon'].values[i] != 0.:\n",
    "#         print(i, 'a')\n",
    "        coord = str(ACT_School['school_lat'].values[i]) + ' ' + str(ACT_School['school_lon'].values[i])\n",
    "        postcode = get_postcode(coord)\n",
    "        ACT_School['postcode'].values[i] = postcode\n",
    "    else:\n",
    "        school_name = ACT_School['school_name'][i] + ' ACT Australia'\n",
    "#         print(i, school_name)\n",
    "        res = get_coord_and_postcode(school_name)\n",
    "        if res != None:\n",
    "            ACT_School['postcode'].values[i] = res[0]\n",
    "            ACT_School['school_lat'].values[i] = res[1]\n",
    "            ACT_School['school_lon'].values[i] = res[2]\n",
    "        else:\n",
    "            continue"
   ]
  },
  {
   "cell_type": "code",
   "execution_count": null,
   "metadata": {},
   "outputs": [],
   "source": [
    "ACT_School"
   ]
  },
  {
   "cell_type": "code",
   "execution_count": null,
   "metadata": {},
   "outputs": [],
   "source": [
    "ACT_School.loc[ACT_School['school_name'] == 'Hall Preschool - Gold Creek School', 'school_lat'] = -35.1678009\n",
    "ACT_School.loc[ACT_School['school_name'] == 'Hall Preschool - Gold Creek School', 'school_lon'] = 149.0695049\n",
    "ACT_School.loc[ACT_School['school_name'] == 'Hall Preschool - Gold Creek School', 'postcode'] = 2618"
   ]
  },
  {
   "cell_type": "code",
   "execution_count": null,
   "metadata": {},
   "outputs": [],
   "source": [
    "ACT_School.loc[ACT_School['school_name'] == 'Hall Preschool - Gold Creek School']"
   ]
  },
  {
   "cell_type": "code",
   "execution_count": null,
   "metadata": {},
   "outputs": [],
   "source": [
    "ACT_School.to_csv('datasets/finished/ACT_School.csv', index=False)"
   ]
  },
  {
   "cell_type": "code",
   "execution_count": null,
   "metadata": {},
   "outputs": [],
   "source": []
  },
  {
   "cell_type": "markdown",
   "metadata": {},
   "source": [
    "## NSW_nongov_locations-2017"
   ]
  },
  {
   "cell_type": "code",
   "execution_count": null,
   "metadata": {},
   "outputs": [],
   "source": [
    "NSW_nongov = pd.read_csv('datasets/NSW_nongov_locations-2017.csv')\n",
    "NSW_nongov.head(2)"
   ]
  },
  {
   "cell_type": "code",
   "execution_count": null,
   "metadata": {},
   "outputs": [],
   "source": [
    "NSW_nongov.info()"
   ]
  },
  {
   "cell_type": "code",
   "execution_count": null,
   "metadata": {},
   "outputs": [],
   "source": [
    "NSW_nongov.rename(columns={'street':'school_address', \n",
    "                           'Sector':'sector',\n",
    "                           'level_of_schooling':'school_type', \n",
    "                           'latitude':'school_lat', \n",
    "                           'longitude':'school_lon',\n",
    "                           'town_suburb':'suburb'}, \n",
    "                  inplace=True)"
   ]
  },
  {
   "cell_type": "code",
   "execution_count": null,
   "metadata": {},
   "outputs": [],
   "source": [
    "NSW_nongov"
   ]
  },
  {
   "cell_type": "code",
   "execution_count": null,
   "metadata": {},
   "outputs": [],
   "source": [
    "NSW_nongov['id'] = range(1, len(NSW_nongov) + 1)"
   ]
  },
  {
   "cell_type": "code",
   "execution_count": null,
   "metadata": {},
   "outputs": [],
   "source": [
    "NSW_nongov = NSW_nongov.reindex(columns=cols)"
   ]
  },
  {
   "cell_type": "code",
   "execution_count": null,
   "metadata": {},
   "outputs": [],
   "source": [
    "NSW_nongov.info()"
   ]
  },
  {
   "cell_type": "code",
   "execution_count": null,
   "metadata": {},
   "outputs": [],
   "source": [
    "NSW_nongov.to_csv('datasets/finished/NSW_nongov.csv', index=False)"
   ]
  },
  {
   "cell_type": "code",
   "execution_count": null,
   "metadata": {},
   "outputs": [],
   "source": []
  },
  {
   "cell_type": "markdown",
   "metadata": {},
   "source": [
    "## NSW_Public"
   ]
  },
  {
   "cell_type": "code",
   "execution_count": null,
   "metadata": {},
   "outputs": [],
   "source": [
    "NSW_Public = pd.read_csv('datasets/NSW-Public-Schools-Master-Dataset-07032017.csv', dtype={'postcode':str})\n",
    "# NSW_Public.info()"
   ]
  },
  {
   "cell_type": "code",
   "execution_count": null,
   "metadata": {},
   "outputs": [],
   "source": [
    "NSW_Public.rename(columns={'school_code':'id', \n",
    "                           'street':'school_address', \n",
    "                           'town_suburb':'suburb', \n",
    "                           'level_of_schooling':'school_type', \n",
    "                           'latitude':'school_lat', \n",
    "                           'longitude':'school_lon'}, \n",
    "                  inplace=True)"
   ]
  },
  {
   "cell_type": "code",
   "execution_count": null,
   "metadata": {},
   "outputs": [],
   "source": [
    "NSW_Public = NSW_Public.reindex(columns=cols)\n",
    "# NSW_Public.info()"
   ]
  },
  {
   "cell_type": "code",
   "execution_count": null,
   "metadata": {},
   "outputs": [],
   "source": [
    "school_name = NSW_Public.loc[NSW_Public['school_lat'].isna() == True, 'school_name']\n",
    "location = geolocator.geocode(school_name)\n",
    "\n",
    "NSW_Public.loc[NSW_Public['school_lat'].isna() == True, 'school_lat'] = location.latitude\n",
    "NSW_Public.loc[NSW_Public['school_lon'].isna() == True, 'school_lon'] = location.longitude"
   ]
  },
  {
   "cell_type": "code",
   "execution_count": null,
   "metadata": {},
   "outputs": [],
   "source": [
    "NSW_Public['suburb'].fillna('', inplace=True)\n",
    "NSW_Public['postcode'].fillna('', inplace=True)\n",
    "NSW_Public['sector'].fillna('Goverment', inplace=True)"
   ]
  },
  {
   "cell_type": "code",
   "execution_count": null,
   "metadata": {},
   "outputs": [],
   "source": [
    "for i in range (len(NSW_Public)):\n",
    "\n",
    "    if NSW_Public['suburb'].values[i] == '':\n",
    "        coord = (NSW_Public['school_lat'].values[i], NSW_Public['school_lon'].values[i])\n",
    "        location = geolocator.reverse(coord, exactly_one=True)\n",
    "        NSW_Public['suburb'].values[i] = ' '.join(re.findall(r'[A-Z][a-z]+', location.address.split(',')[-2]))\n",
    "        if NSW_Public['postcode'].values[i] == '':\n",
    "            NSW_Public['postcode'].values[i] = location.address.split(',')[-2].split(' ')[-1]\n"
   ]
  },
  {
   "cell_type": "code",
   "execution_count": null,
   "metadata": {},
   "outputs": [],
   "source": []
  },
  {
   "cell_type": "code",
   "execution_count": null,
   "metadata": {},
   "outputs": [],
   "source": [
    "NSW_Public.to_csv('datasets/finished/NSW_Public.csv', index=False)"
   ]
  },
  {
   "cell_type": "code",
   "execution_count": null,
   "metadata": {},
   "outputs": [],
   "source": []
  },
  {
   "cell_type": "markdown",
   "metadata": {},
   "source": [
    "## Queensland_School"
   ]
  },
  {
   "cell_type": "code",
   "execution_count": null,
   "metadata": {},
   "outputs": [],
   "source": [
    "Queensland = pd.read_csv('datasets/queesland school.csv', dtype={'school_type':str, 'postcode':str})\n",
    "Queensland.info()"
   ]
  },
  {
   "cell_type": "code",
   "execution_count": null,
   "metadata": {},
   "outputs": [],
   "source": [
    "for i in range(len(Queensland)):\n",
    "    Queensland['school_type'].values[i] = Queensland['Official Low Year Level'].values[i] + ' to ' + Queensland['Official High Year Level'].values[i]"
   ]
  },
  {
   "cell_type": "code",
   "execution_count": null,
   "metadata": {},
   "outputs": [],
   "source": []
  },
  {
   "cell_type": "code",
   "execution_count": null,
   "metadata": {},
   "outputs": [],
   "source": [
    "Queensland['sector'] = Queensland['sector'].fillna('')"
   ]
  },
  {
   "cell_type": "code",
   "execution_count": null,
   "metadata": {},
   "outputs": [],
   "source": [
    "for i in range(len(Queensland)):\n",
    "    if Queensland['sector'].values[i] == '':\n",
    "        Queensland['sector'].values[i] = Queensland['Sector'].values[i]"
   ]
  },
  {
   "cell_type": "code",
   "execution_count": null,
   "metadata": {},
   "outputs": [],
   "source": [
    "Queensland.drop(columns=['Official Low Year Level', 'Official High Year Level', 'Sector'], inplace=True)"
   ]
  },
  {
   "cell_type": "code",
   "execution_count": null,
   "metadata": {},
   "outputs": [],
   "source": [
    "Queensland = Queensland.reindex(columns=cols)"
   ]
  },
  {
   "cell_type": "code",
   "execution_count": null,
   "metadata": {},
   "outputs": [],
   "source": [
    "Queensland.head(2)"
   ]
  },
  {
   "cell_type": "code",
   "execution_count": null,
   "metadata": {},
   "outputs": [],
   "source": [
    "Queensland.to_csv('datasets/finished/Queensland.csv', index=False)"
   ]
  },
  {
   "cell_type": "code",
   "execution_count": null,
   "metadata": {},
   "outputs": [],
   "source": []
  },
  {
   "cell_type": "markdown",
   "metadata": {},
   "source": [
    "## SA_School"
   ]
  },
  {
   "cell_type": "code",
   "execution_count": null,
   "metadata": {},
   "outputs": [],
   "source": [
    "SA_School = pd.read_excel('datasets/SouthAustralia.xlsx')\n",
    "SA_School.head(2)"
   ]
  },
  {
   "cell_type": "code",
   "execution_count": null,
   "metadata": {},
   "outputs": [],
   "source": [
    "SA_School.rename(columns={'Number':'id', \n",
    "                          'Name':'school_name', \n",
    "                          'Address':'school_address', \n",
    "                          'Suburb':'suburb', \n",
    "                          'Post Code':'postcode', \n",
    "                          'Latitude':'school_lat',\n",
    "                          'Longitude':'school_lon',\n",
    "                          'Subtype Name':'school_type',\n",
    "                          'Department':'sector'},\n",
    "                inplace=True)"
   ]
  },
  {
   "cell_type": "code",
   "execution_count": null,
   "metadata": {},
   "outputs": [],
   "source": [
    "SA_School.info()"
   ]
  },
  {
   "cell_type": "code",
   "execution_count": null,
   "metadata": {},
   "outputs": [],
   "source": [
    "SA_School['school_address'].fillna('', inplace=True)"
   ]
  },
  {
   "cell_type": "code",
   "execution_count": null,
   "metadata": {},
   "outputs": [],
   "source": [
    "for i in range(len(SA_School)):\n",
    "    if SA_School['school_address'].values[i] == '':\n",
    "        school_name = SA_School['school_name'].values[i] + ' Australia'\n",
    "        address = get_school_address(school_name)\n",
    "        SA_School['school_address'].values[i] = address"
   ]
  },
  {
   "cell_type": "code",
   "execution_count": null,
   "metadata": {},
   "outputs": [],
   "source": [
    "for i in range(len(SA_School)):\n",
    "    if SA_School['sector'].values[i] == 'DEPT':\n",
    "        SA_School['sector'].values[i] = 'Government'\n",
    "    else:\n",
    "        SA_School['sector'].values[i] = 'Non-Government'"
   ]
  },
  {
   "cell_type": "code",
   "execution_count": null,
   "metadata": {},
   "outputs": [],
   "source": [
    "SA_School = SA_School.reindex(columns=cols)"
   ]
  },
  {
   "cell_type": "code",
   "execution_count": null,
   "metadata": {},
   "outputs": [],
   "source": [
    "SA_School.to_csv('datasets/finished/SA_School.csv', index=False)"
   ]
  },
  {
   "cell_type": "code",
   "execution_count": null,
   "metadata": {},
   "outputs": [],
   "source": []
  },
  {
   "cell_type": "markdown",
   "metadata": {},
   "source": [
    "## Victoria_School"
   ]
  },
  {
   "cell_type": "code",
   "execution_count": null,
   "metadata": {},
   "outputs": [],
   "source": [
    "Victoria = pd.read_csv('datasets/Victoria.csv')\n",
    "Victoria.head(2)"
   ]
  },
  {
   "cell_type": "code",
   "execution_count": null,
   "metadata": {},
   "outputs": [],
   "source": [
    "Victoria.info()"
   ]
  },
  {
   "cell_type": "code",
   "execution_count": null,
   "metadata": {},
   "outputs": [],
   "source": [
    "Victoria.rename(columns={'Education_Sector':'sector',\n",
    "                         'School_No':'id',\n",
    "                         'School_Name':'school_name',\n",
    "                         'School_Type':'school_type',\n",
    "                         'Adress_Line_1':'school_address',\n",
    "                         'Adress_Town':'suburb',\n",
    "                         'Address_Postcode':'postcode',\n",
    "                         'X':'school_lon',\n",
    "                         'Y':'school_lat'},\n",
    "               inplace=True)"
   ]
  },
  {
   "cell_type": "code",
   "execution_count": null,
   "metadata": {},
   "outputs": [],
   "source": [
    "Victoria = Victoria.reindex()"
   ]
  },
  {
   "cell_type": "code",
   "execution_count": null,
   "metadata": {},
   "outputs": [],
   "source": []
  }
 ],
 "metadata": {
  "kernelspec": {
   "display_name": "Python 3.7.6 64-bit ('tf2': conda)",
   "language": "python",
   "name": "python37664bittf2condad07dc43a9ffc4bc7bc06ef8a41f822db"
  },
  "language_info": {
   "codemirror_mode": {
    "name": "ipython",
    "version": 3
   },
   "file_extension": ".py",
   "mimetype": "text/x-python",
   "name": "python",
   "nbconvert_exporter": "python",
   "pygments_lexer": "ipython3",
   "version": "3.7.6"
  }
 },
 "nbformat": 4,
 "nbformat_minor": 4
}
