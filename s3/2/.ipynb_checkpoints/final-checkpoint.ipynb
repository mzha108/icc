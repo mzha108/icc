{
 "cells": [
  {
   "cell_type": "code",
   "execution_count": null,
   "metadata": {},
   "outputs": [],
   "source": [
    "import pandas as pd"
   ]
  },
  {
   "cell_type": "code",
   "execution_count": null,
   "metadata": {},
   "outputs": [],
   "source": [
    "ACT_BUS = pd.read_csv('dataset/finished/ACT_BUS.csv')\n",
    "NSW_Station = pd.read_csv('dataset/finished/NSW_Station.csv')\n",
    "NT_Bus = pd.read_csv('dataset/finished/NT_Bus.csv')\n",
    "SA_Adelaide_Metro = pd.read_csv('dataset/finished/SA_Adelaide_Metro.csv')\n",
    "SA_Bus_Shelter = pd.read_csv('dataset/finished/SA_Bus_Shelter.csv')\n",
    "Tasmania_Metro_Burnie = pd.read_csv('dataset/finished/Tasmania_Metro_Burnie.csv')\n",
    "Tasmania_Metro_Hobart = pd.read_csv('dataset/finished/Tasmania_Metro_Hobart.csv')\n",
    "Tasmania_Metro_Launceston = pd.read_csv('dataset/finished/Tasmania_Metro_Launceston.csv')\n",
    "VIC_Brisbane_Bus = pd.read_csv('dataset/finished/VIC_Brisbane_Bus.csv')\n",
    "VIC_Railway = pd.read_csv('dataset/finished/VIC_Railway.csv')\n",
    "VIC_Regional_Bus = pd.read_csv('dataset/finished/VIC_Regional_Bus.csv')\n",
    "WA_Bus = pd.read_csv('dataset/finished/WA_Bus.csv')"
   ]
  },
  {
   "cell_type": "code",
   "execution_count": null,
   "metadata": {},
   "outputs": [],
   "source": [
    "AUS_Transport = pd.concat([ACT_BUS, NSW_Station, NT_Bus, SA_Adelaide_Metro, SA_Bus_Shelter, Tasmania_Metro_Burnie, \n",
    "                           Tasmania_Metro_Hobart, Tasmania_Metro_Launceston, VIC_Brisbane_Bus, VIC_Railway, VIC_Regional_Bus, WA_Bus\n",
    "                          ])\n",
    "AUS_Transport['id'] = range(1, len(AUS_Transport) + 1)"
   ]
  },
  {
   "cell_type": "code",
   "execution_count": null,
   "metadata": {},
   "outputs": [],
   "source": [
    "AUS_Transport.info()"
   ]
  },
  {
   "cell_type": "code",
   "execution_count": null,
   "metadata": {},
   "outputs": [],
   "source": [
    "AUS_Transport.to_csv('dataset/finished/AUS_Transport.csv', index=False)"
   ]
  },
  {
   "cell_type": "code",
   "execution_count": null,
   "metadata": {},
   "outputs": [],
   "source": []
  }
 ],
 "metadata": {
  "kernelspec": {
   "display_name": "Python 3.7.6 64-bit ('tf2': conda)",
   "language": "python",
   "name": "python37664bittf2condad07dc43a9ffc4bc7bc06ef8a41f822db"
  },
  "language_info": {
   "codemirror_mode": {
    "name": "ipython",
    "version": 3
   },
   "file_extension": ".py",
   "mimetype": "text/x-python",
   "name": "python",
   "nbconvert_exporter": "python",
   "pygments_lexer": "ipython3",
   "version": "3.7.6"
  }
 },
 "nbformat": 4,
 "nbformat_minor": 4
}
