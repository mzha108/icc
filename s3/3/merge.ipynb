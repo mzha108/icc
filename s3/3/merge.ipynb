{
 "cells": [
  {
   "cell_type": "code",
   "execution_count": 20,
   "metadata": {},
   "outputs": [],
   "source": [
    "import pandas as pd"
   ]
  },
  {
   "cell_type": "code",
   "execution_count": 21,
   "metadata": {},
   "outputs": [],
   "source": [
    "act = pd.read_csv('datasets/finished/ACT_School.csv')\n",
    "nsw_ng = pd.read_csv('datasets/finished/NSW_nongov.csv')\n",
    "nsw_g = pd.read_csv('datasets/finished/NSW_Public.csv')\n",
    "queens = pd.read_csv('datasets/finished/Queensland.csv')\n",
    "sa = pd.read_csv('datasets/finished/SA_School.csv')\n",
    "vic = pd.read_csv('datasets/finished/Victoria.csv')"
   ]
  },
  {
   "cell_type": "code",
   "execution_count": 22,
   "metadata": {},
   "outputs": [],
   "source": [
    "AUS_School = pd.concat([act, nsw_ng, nsw_g, queens, sa, vic])\n",
    "AUS_School['id'] = range(1, len(AUS_School) + 1)"
   ]
  },
  {
   "cell_type": "code",
   "execution_count": 23,
   "metadata": {},
   "outputs": [
    {
     "name": "stdout",
     "output_type": "stream",
     "text": [
      "<class 'pandas.core.frame.DataFrame'>\n",
      "Int64Index: 9780 entries, 0 to 2247\n",
      "Data columns (total 9 columns):\n",
      " #   Column          Non-Null Count  Dtype  \n",
      "---  ------          --------------  -----  \n",
      " 0   id              9780 non-null   int32  \n",
      " 1   school_name     9780 non-null   object \n",
      " 2   school_address  9779 non-null   object \n",
      " 3   suburb          9780 non-null   object \n",
      " 4   postcode        9780 non-null   int64  \n",
      " 5   sector          9780 non-null   object \n",
      " 6   school_type     9780 non-null   object \n",
      " 7   school_lat      9780 non-null   float64\n",
      " 8   school_lon      9780 non-null   float64\n",
      "dtypes: float64(2), int32(1), int64(1), object(5)\n",
      "memory usage: 725.9+ KB\n"
     ]
    }
   ],
   "source": [
    "AUS_School.info()"
   ]
  },
  {
   "cell_type": "code",
   "execution_count": 24,
   "metadata": {},
   "outputs": [
    {
     "data": {
      "text/html": [
       "<div>\n",
       "<style scoped>\n",
       "    .dataframe tbody tr th:only-of-type {\n",
       "        vertical-align: middle;\n",
       "    }\n",
       "\n",
       "    .dataframe tbody tr th {\n",
       "        vertical-align: top;\n",
       "    }\n",
       "\n",
       "    .dataframe thead th {\n",
       "        text-align: right;\n",
       "    }\n",
       "</style>\n",
       "<table border=\"1\" class=\"dataframe\">\n",
       "  <thead>\n",
       "    <tr style=\"text-align: right;\">\n",
       "      <th></th>\n",
       "      <th>id</th>\n",
       "      <th>school_name</th>\n",
       "      <th>school_address</th>\n",
       "      <th>suburb</th>\n",
       "      <th>postcode</th>\n",
       "      <th>sector</th>\n",
       "      <th>school_type</th>\n",
       "      <th>school_lat</th>\n",
       "      <th>school_lon</th>\n",
       "    </tr>\n",
       "  </thead>\n",
       "  <tbody>\n",
       "    <tr>\n",
       "      <th>0</th>\n",
       "      <td>1</td>\n",
       "      <td>Franklin Early Childhood School</td>\n",
       "      <td>Oodgeroo Avenue</td>\n",
       "      <td>Franklin</td>\n",
       "      <td>2913</td>\n",
       "      <td>Government</td>\n",
       "      <td>Early Childhood School</td>\n",
       "      <td>-35.200461</td>\n",
       "      <td>149.141327</td>\n",
       "    </tr>\n",
       "    <tr>\n",
       "      <th>1</th>\n",
       "      <td>2</td>\n",
       "      <td>Isabella Plains Early Childhood School</td>\n",
       "      <td>Ellerston Avenue</td>\n",
       "      <td>Isabella Plains</td>\n",
       "      <td>2905</td>\n",
       "      <td>Government</td>\n",
       "      <td>Early Childhood School</td>\n",
       "      <td>-35.428716</td>\n",
       "      <td>149.089497</td>\n",
       "    </tr>\n",
       "  </tbody>\n",
       "</table>\n",
       "</div>"
      ],
      "text/plain": [
       "   id                             school_name    school_address  \\\n",
       "0   1         Franklin Early Childhood School   Oodgeroo Avenue   \n",
       "1   2  Isabella Plains Early Childhood School  Ellerston Avenue   \n",
       "\n",
       "            suburb  postcode      sector             school_type  school_lat  \\\n",
       "0         Franklin      2913  Government  Early Childhood School  -35.200461   \n",
       "1  Isabella Plains      2905  Government  Early Childhood School  -35.428716   \n",
       "\n",
       "   school_lon  \n",
       "0  149.141327  \n",
       "1  149.089497  "
      ]
     },
     "execution_count": 24,
     "metadata": {},
     "output_type": "execute_result"
    }
   ],
   "source": [
    "AUS_School.head(2)"
   ]
  },
  {
   "cell_type": "code",
   "execution_count": null,
   "metadata": {},
   "outputs": [],
   "source": []
  }
 ],
 "metadata": {
  "kernelspec": {
   "display_name": "Python 3.7.6 64-bit ('tf2': conda)",
   "language": "python",
   "name": "python37664bittf2condad07dc43a9ffc4bc7bc06ef8a41f822db"
  },
  "language_info": {
   "codemirror_mode": {
    "name": "ipython",
    "version": 3
   },
   "file_extension": ".py",
   "mimetype": "text/x-python",
   "name": "python",
   "nbconvert_exporter": "python",
   "pygments_lexer": "ipython3",
   "version": "3.7.6"
  }
 },
 "nbformat": 4,
 "nbformat_minor": 4
}
