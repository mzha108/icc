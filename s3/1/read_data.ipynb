{
 "cells": [
  {
   "cell_type": "code",
   "execution_count": 1,
   "metadata": {},
   "outputs": [],
   "source": [
    "import pandas as pd\n",
    "import numpy as np\n",
    "\n",
    "# pd.set_option('display.max_rows', None)"
   ]
  },
  {
   "cell_type": "code",
   "execution_count": 2,
   "metadata": {},
   "outputs": [],
   "source": [
    "raw_post_suburb = pd.read_excel('AUS_SubCityDistrictState_Data.xlsx', sheet_name=1, dtype={'postcode':str})"
   ]
  },
  {
   "cell_type": "code",
   "execution_count": null,
   "metadata": {},
   "outputs": [],
   "source": [
    "raw_post_suburb.head(1)"
   ]
  },
  {
   "cell_type": "code",
   "execution_count": null,
   "metadata": {},
   "outputs": [],
   "source": [
    "raw_post_suburb.info()"
   ]
  },
  {
   "cell_type": "code",
   "execution_count": null,
   "metadata": {},
   "outputs": [],
   "source": []
  },
  {
   "cell_type": "code",
   "execution_count": 3,
   "metadata": {},
   "outputs": [],
   "source": [
    "name = list(raw_post_suburb[raw_post_suburb['postcode'].isna() == True]['suburb'].values)[0]"
   ]
  },
  {
   "cell_type": "code",
   "execution_count": 4,
   "metadata": {},
   "outputs": [],
   "source": [
    "def get_postcode_from_suburb_name(name):\n",
    "    '''\n",
    "    Return postcode by using suburb name.\n",
    "    '''\n",
    "    import requests\n",
    "    \n",
    "    name = name\n",
    "    params = {'name': name}\n",
    "    r = requests.get(url='http://v0.postcodeapi.com.au/suburbs.json', params=params).json()\n",
    "    postcode = r[0]['postcode']\n",
    "    return postcode"
   ]
  },
  {
   "cell_type": "code",
   "execution_count": 5,
   "metadata": {},
   "outputs": [],
   "source": [
    "postcode = get_postcode_from_suburb_name(name)"
   ]
  },
  {
   "cell_type": "code",
   "execution_count": 6,
   "metadata": {},
   "outputs": [],
   "source": [
    "raw_post_suburb[raw_post_suburb['postcode'].isna() == True] = raw_post_suburb[raw_post_suburb['postcode'].isna() == True].fillna(postcode)"
   ]
  },
  {
   "cell_type": "code",
   "execution_count": 7,
   "metadata": {},
   "outputs": [],
   "source": [
    "raw_post_suburb['Distric'] = raw_post_suburb['Distric'].fillna('')\n",
    "raw_post_suburb['Distric'] = raw_post_suburb['Distric'].replace('Unknown', '')"
   ]
  },
  {
   "cell_type": "code",
   "execution_count": 8,
   "metadata": {},
   "outputs": [],
   "source": [
    "import re\n",
    "\n",
    "raw_post_suburb['city'] = raw_post_suburb['city'].apply(lambda x:re.sub(r'[?]', '', x))"
   ]
  },
  {
   "cell_type": "code",
   "execution_count": null,
   "metadata": {},
   "outputs": [],
   "source": [
    "raw_post_suburb.info()"
   ]
  },
  {
   "cell_type": "code",
   "execution_count": 9,
   "metadata": {},
   "outputs": [],
   "source": [
    "raw_post_suburb['id'] = range(1, len(raw_post_suburb)+1)"
   ]
  },
  {
   "cell_type": "code",
   "execution_count": 10,
   "metadata": {},
   "outputs": [],
   "source": [
    "cols = list(raw_post_suburb.columns)"
   ]
  },
  {
   "cell_type": "code",
   "execution_count": 11,
   "metadata": {},
   "outputs": [],
   "source": [
    "tmp = cols.pop()\n",
    "cols.insert(0, tmp)"
   ]
  },
  {
   "cell_type": "code",
   "execution_count": 14,
   "metadata": {},
   "outputs": [],
   "source": [
    "raw_post_suburb = raw_post_suburb.reindex(columns=cols)"
   ]
  },
  {
   "cell_type": "code",
   "execution_count": 15,
   "metadata": {},
   "outputs": [
    {
     "data": {
      "text/html": [
       "<div>\n",
       "<style scoped>\n",
       "    .dataframe tbody tr th:only-of-type {\n",
       "        vertical-align: middle;\n",
       "    }\n",
       "\n",
       "    .dataframe tbody tr th {\n",
       "        vertical-align: top;\n",
       "    }\n",
       "\n",
       "    .dataframe thead th {\n",
       "        text-align: right;\n",
       "    }\n",
       "</style>\n",
       "<table border=\"1\" class=\"dataframe\">\n",
       "  <thead>\n",
       "    <tr style=\"text-align: right;\">\n",
       "      <th></th>\n",
       "      <th>id</th>\n",
       "      <th>postcode</th>\n",
       "      <th>suburb</th>\n",
       "      <th>city</th>\n",
       "      <th>state</th>\n",
       "      <th>state_code</th>\n",
       "      <th>lat</th>\n",
       "      <th>lon</th>\n",
       "      <th>Distric</th>\n",
       "    </tr>\n",
       "  </thead>\n",
       "  <tbody>\n",
       "    <tr>\n",
       "      <th>0</th>\n",
       "      <td>1</td>\n",
       "      <td>2601</td>\n",
       "      <td>Acton</td>\n",
       "      <td>Canberra</td>\n",
       "      <td>Australian Capital Territory</td>\n",
       "      <td>ACT</td>\n",
       "      <td>-35.282087</td>\n",
       "      <td>149.108716</td>\n",
       "      <td>North Canberra</td>\n",
       "    </tr>\n",
       "    <tr>\n",
       "      <th>1</th>\n",
       "      <td>2</td>\n",
       "      <td>2602</td>\n",
       "      <td>Ainslie</td>\n",
       "      <td>Canberra</td>\n",
       "      <td>Australian Capital Territory</td>\n",
       "      <td>ACT</td>\n",
       "      <td>-35.262153</td>\n",
       "      <td>149.145893</td>\n",
       "      <td>North Canberra</td>\n",
       "    </tr>\n",
       "    <tr>\n",
       "      <th>2</th>\n",
       "      <td>3</td>\n",
       "      <td>800</td>\n",
       "      <td>Darwin</td>\n",
       "      <td>Darwin</td>\n",
       "      <td>Northern Territory</td>\n",
       "      <td>NT</td>\n",
       "      <td>-12.801028</td>\n",
       "      <td>130.955789</td>\n",
       "      <td>Darwin</td>\n",
       "    </tr>\n",
       "    <tr>\n",
       "      <th>3</th>\n",
       "      <td>4</td>\n",
       "      <td>801</td>\n",
       "      <td>Darwin</td>\n",
       "      <td>Darwin</td>\n",
       "      <td>Northern Territory</td>\n",
       "      <td>NT</td>\n",
       "      <td>-12.801028</td>\n",
       "      <td>130.955789</td>\n",
       "      <td>Darwin</td>\n",
       "    </tr>\n",
       "    <tr>\n",
       "      <th>4</th>\n",
       "      <td>5</td>\n",
       "      <td>804</td>\n",
       "      <td>Parap</td>\n",
       "      <td>Darwin</td>\n",
       "      <td>Northern Territory</td>\n",
       "      <td>NT</td>\n",
       "      <td>-12.432181</td>\n",
       "      <td>130.843310</td>\n",
       "      <td>Darwin</td>\n",
       "    </tr>\n",
       "    <tr>\n",
       "      <th>...</th>\n",
       "      <td>...</td>\n",
       "      <td>...</td>\n",
       "      <td>...</td>\n",
       "      <td>...</td>\n",
       "      <td>...</td>\n",
       "      <td>...</td>\n",
       "      <td>...</td>\n",
       "      <td>...</td>\n",
       "      <td>...</td>\n",
       "    </tr>\n",
       "    <tr>\n",
       "      <th>16073</th>\n",
       "      <td>16074</td>\n",
       "      <td>9009</td>\n",
       "      <td>Brisbane</td>\n",
       "      <td>Brisbane</td>\n",
       "      <td>Queensland</td>\n",
       "      <td>QLD</td>\n",
       "      <td>-27.603479</td>\n",
       "      <td>152.823141</td>\n",
       "      <td>Brisbane</td>\n",
       "    </tr>\n",
       "    <tr>\n",
       "      <th>16074</th>\n",
       "      <td>16075</td>\n",
       "      <td>9010</td>\n",
       "      <td>Brisbane</td>\n",
       "      <td>Brisbane</td>\n",
       "      <td>Queensland</td>\n",
       "      <td>QLD</td>\n",
       "      <td>-27.603479</td>\n",
       "      <td>152.823141</td>\n",
       "      <td>Brisbane</td>\n",
       "    </tr>\n",
       "    <tr>\n",
       "      <th>16075</th>\n",
       "      <td>16076</td>\n",
       "      <td>9013</td>\n",
       "      <td>Brisbane</td>\n",
       "      <td>Brisbane</td>\n",
       "      <td>Queensland</td>\n",
       "      <td>QLD</td>\n",
       "      <td>-27.603479</td>\n",
       "      <td>152.823141</td>\n",
       "      <td>Brisbane</td>\n",
       "    </tr>\n",
       "    <tr>\n",
       "      <th>16076</th>\n",
       "      <td>16077</td>\n",
       "      <td>9015</td>\n",
       "      <td>Brisbane</td>\n",
       "      <td>Brisbane</td>\n",
       "      <td>Queensland</td>\n",
       "      <td>QLD</td>\n",
       "      <td>-27.603479</td>\n",
       "      <td>152.823141</td>\n",
       "      <td>Brisbane</td>\n",
       "    </tr>\n",
       "    <tr>\n",
       "      <th>16077</th>\n",
       "      <td>16078</td>\n",
       "      <td>9020</td>\n",
       "      <td>Brisbane</td>\n",
       "      <td>Brisbane</td>\n",
       "      <td>Queensland</td>\n",
       "      <td>QLD</td>\n",
       "      <td>-27.603479</td>\n",
       "      <td>152.823141</td>\n",
       "      <td>Brisbane</td>\n",
       "    </tr>\n",
       "  </tbody>\n",
       "</table>\n",
       "<p>16078 rows × 9 columns</p>\n",
       "</div>"
      ],
      "text/plain": [
       "          id postcode    suburb      city                         state  \\\n",
       "0          1     2601     Acton  Canberra  Australian Capital Territory   \n",
       "1          2     2602   Ainslie  Canberra  Australian Capital Territory   \n",
       "2          3      800    Darwin    Darwin            Northern Territory   \n",
       "3          4      801    Darwin    Darwin            Northern Territory   \n",
       "4          5      804     Parap    Darwin            Northern Territory   \n",
       "...      ...      ...       ...       ...                           ...   \n",
       "16073  16074     9009  Brisbane  Brisbane                    Queensland   \n",
       "16074  16075     9010  Brisbane  Brisbane                    Queensland   \n",
       "16075  16076     9013  Brisbane  Brisbane                    Queensland   \n",
       "16076  16077     9015  Brisbane  Brisbane                    Queensland   \n",
       "16077  16078     9020  Brisbane  Brisbane                    Queensland   \n",
       "\n",
       "      state_code        lat         lon         Distric  \n",
       "0            ACT -35.282087  149.108716  North Canberra  \n",
       "1            ACT -35.262153  149.145893  North Canberra  \n",
       "2             NT -12.801028  130.955789          Darwin  \n",
       "3             NT -12.801028  130.955789          Darwin  \n",
       "4             NT -12.432181  130.843310          Darwin  \n",
       "...          ...        ...         ...             ...  \n",
       "16073        QLD -27.603479  152.823141        Brisbane  \n",
       "16074        QLD -27.603479  152.823141        Brisbane  \n",
       "16075        QLD -27.603479  152.823141        Brisbane  \n",
       "16076        QLD -27.603479  152.823141        Brisbane  \n",
       "16077        QLD -27.603479  152.823141        Brisbane  \n",
       "\n",
       "[16078 rows x 9 columns]"
      ]
     },
     "execution_count": 15,
     "metadata": {},
     "output_type": "execute_result"
    }
   ],
   "source": [
    "raw_post_suburb"
   ]
  },
  {
   "cell_type": "code",
   "execution_count": 16,
   "metadata": {},
   "outputs": [],
   "source": [
    "import OpenSSL\n",
    "raw_post_suburb.to_excel('AUS_Postcode_Data.xlsx', index=False)"
   ]
  },
  {
   "cell_type": "code",
   "execution_count": 21,
   "metadata": {},
   "outputs": [
    {
     "name": "stderr",
     "output_type": "stream",
     "text": [
      "C:\\Users\\Mu\\Anaconda3\\envs\\tf2\\lib\\site-packages\\ipykernel_launcher.py:3: DeprecationWarning: Using Nominatim with the default \"geopy/1.22.0\" `user_agent` is strongly discouraged, as it violates Nominatim's ToS https://operations.osmfoundation.org/policies/nominatim/ and may possibly cause 403 and 429 HTTP errors. Please specify a custom `user_agent` with `Nominatim(user_agent=\"my-application\")` or by overriding the default `user_agent`: `geopy.geocoders.options.default_user_agent = \"my-application\"`. In geopy 2.0 this will become an exception.\n",
      "  This is separate from the ipykernel package so we can avoid doing imports until\n"
     ]
    },
    {
     "data": {
      "text/plain": [
       "'McKellar, District of Belconnen, Australian Capital Territory, 2617, Australia'"
      ]
     },
     "execution_count": 21,
     "metadata": {},
     "output_type": "execute_result"
    }
   ],
   "source": [
    "from geopy.geocoders import Nominatim\n",
    "\n",
    "geolocator = Nominatim()\n",
    "location = geolocator.geocode('McKellar')\n",
    "location.address"
   ]
  },
  {
   "cell_type": "code",
   "execution_count": null,
   "metadata": {},
   "outputs": [],
   "source": []
  }
 ],
 "metadata": {
  "kernelspec": {
   "display_name": "Python 3.7.6 64-bit ('tf2': conda)",
   "language": "python",
   "name": "python37664bittf2condad07dc43a9ffc4bc7bc06ef8a41f822db"
  },
  "language_info": {
   "codemirror_mode": {
    "name": "ipython",
    "version": 3
   },
   "file_extension": ".py",
   "mimetype": "text/x-python",
   "name": "python",
   "nbconvert_exporter": "python",
   "pygments_lexer": "ipython3",
   "version": "3.7.6"
  }
 },
 "nbformat": 4,
 "nbformat_minor": 4
}
